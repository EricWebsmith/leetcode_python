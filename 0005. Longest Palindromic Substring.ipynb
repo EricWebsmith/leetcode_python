{
 "cells": [
  {
   "cell_type": "markdown",
   "id": "2b12231c",
   "metadata": {},
   "source": [
    "# 5. Longest Palindromic Substring\n",
    "\n",
    "https://leetcode.com/problems/longest-palindromic-substring/\n"
   ]
  },
  {
   "cell_type": "code",
   "execution_count": 1,
   "id": "4dd3c16d",
   "metadata": {},
   "outputs": [],
   "source": [
    "def longestPalindrome(s: str) -> str:\n",
    "    pass"
   ]
  },
  {
   "cell_type": "code",
   "execution_count": 22,
   "id": "af297fe7",
   "metadata": {},
   "outputs": [],
   "source": [
    "tests = [\n",
    "    {\n",
    "        \"input\":{\n",
    "            \"s\":\"babad\"\n",
    "        },\n",
    "        \"output\":['bab', 'aba']\n",
    "    },\n",
    "    {\n",
    "        \"input\":{\n",
    "            \"s\":\"cbbd\"\n",
    "        },\n",
    "        \"output\":['bb']\n",
    "    },\n",
    "    {\n",
    "        \"input\":{\n",
    "            \"s\":\"a\"\n",
    "        },\n",
    "        \"output\":['a']\n",
    "    },\n",
    "    {\n",
    "        \"input\":{\n",
    "            \"s\":\"ac\"\n",
    "        },\n",
    "        \"output\":['a']\n",
    "    }\n",
    "]"
   ]
  },
  {
   "cell_type": "code",
   "execution_count": 23,
   "id": "8be16386",
   "metadata": {},
   "outputs": [
    {
     "data": {
      "text/plain": [
       "[{'input': {'s': 'babad'}, 'output': ['bab', 'aba']},\n",
       " {'input': {'s': 'cbbd'}, 'output': ['bb']},\n",
       " {'input': {'s': 'a'}, 'output': ['a']},\n",
       " {'input': {'s': 'ac'}, 'output': ['a']}]"
      ]
     },
     "execution_count": 23,
     "metadata": {},
     "output_type": "execute_result"
    }
   ],
   "source": [
    "tests"
   ]
  },
  {
   "cell_type": "code",
   "execution_count": 24,
   "id": "10ca6f31",
   "metadata": {},
   "outputs": [],
   "source": [
    "def test_all(func):\n",
    "    for test in tests:\n",
    "        actual = func(**test['input'])\n",
    "        status = 'pass' if actual in test['output'] else 'fail'\n",
    "        print(f\"{status}, expected: {test['output']}, actual: {actual}\")"
   ]
  },
  {
   "cell_type": "code",
   "execution_count": 25,
   "id": "68717cb2",
   "metadata": {},
   "outputs": [
    {
     "name": "stdout",
     "output_type": "stream",
     "text": [
      "fail, expected: ['bab', 'aba'], actual: None\n",
      "fail, expected: ['bb'], actual: None\n",
      "fail, expected: ['a'], actual: None\n",
      "fail, expected: ['a'], actual: None\n"
     ]
    }
   ],
   "source": [
    "test_all(longestPalindrome)"
   ]
  },
  {
   "cell_type": "markdown",
   "id": "ee8d6767",
   "metadata": {},
   "source": [
    "# Middle Scan"
   ]
  },
  {
   "cell_type": "code",
   "execution_count": 40,
   "id": "4f1bddb3",
   "metadata": {},
   "outputs": [],
   "source": [
    "def middle_scan(s):\n",
    "    palindrome = s[0]\n",
    "    for i in range(len(s)):\n",
    "        # print(f\"i:{i}\")\n",
    "        radius = 0\n",
    "        # middle include\n",
    "        while i - radius > 0 and i + radius < len(s) - 1:\n",
    "            if s[i - radius - 1] == s[i + radius + 1]:\n",
    "                radius += 1\n",
    "                # print(f\"radius: {radius}\")\n",
    "            else:\n",
    "                break\n",
    "        if radius * 2 + 1 > len(palindrome):\n",
    "            palindrome = s[i - radius:i + radius+1]\n",
    "        # midle is empty\n",
    "        radius = 0\n",
    "        if i+1<len(s) and s[i] == s[i+1]:\n",
    "            while i - radius - 1 >= 0 and i + radius + 2 < len(s) and s[i - radius - 1] == s[i + radius + 2]:\n",
    "                radius += 1\n",
    "                # print(f\"radius: {radius}\")\n",
    "            if radius * 2 + 2 > len(palindrome):\n",
    "                palindrome = s[i - radius:i + radius+2]\n",
    "    return palindrome"
   ]
  },
  {
   "cell_type": "code",
   "execution_count": 41,
   "id": "c17fc084",
   "metadata": {},
   "outputs": [
    {
     "name": "stdout",
     "output_type": "stream",
     "text": [
      "pass, expected: ['bab', 'aba'], actual: bab\n",
      "pass, expected: ['bb'], actual: bb\n",
      "pass, expected: ['a'], actual: a\n",
      "pass, expected: ['a'], actual: a\n"
     ]
    }
   ],
   "source": [
    "test_all(middle_scan)"
   ]
  },
  {
   "cell_type": "code",
   "execution_count": 30,
   "id": "09962f19",
   "metadata": {},
   "outputs": [],
   "source": [
    "s = '012345'"
   ]
  },
  {
   "cell_type": "code",
   "execution_count": 31,
   "id": "14fc12ba",
   "metadata": {},
   "outputs": [
    {
     "data": {
      "text/plain": [
       "'0'"
      ]
     },
     "execution_count": 31,
     "metadata": {},
     "output_type": "execute_result"
    }
   ],
   "source": [
    "s[0:1]"
   ]
  },
  {
   "cell_type": "code",
   "execution_count": null,
   "id": "02889480",
   "metadata": {},
   "outputs": [],
   "source": []
  }
 ],
 "metadata": {
  "kernelspec": {
   "display_name": "py37",
   "language": "python",
   "name": "py37"
  },
  "language_info": {
   "codemirror_mode": {
    "name": "ipython",
    "version": 3
   },
   "file_extension": ".py",
   "mimetype": "text/x-python",
   "name": "python",
   "nbconvert_exporter": "python",
   "pygments_lexer": "ipython3",
   "version": "3.8.8"
  }
 },
 "nbformat": 4,
 "nbformat_minor": 5
}

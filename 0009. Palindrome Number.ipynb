{
 "cells": [
  {
   "cell_type": "markdown",
   "metadata": {},
   "source": [
    "Determine whether an integer is a palindrome. An integer is a palindrome when it reads the same backward as forward."
   ]
  },
  {
   "cell_type": "markdown",
   "metadata": {},
   "source": [
    "Runtime: 56 ms, faster than 76.79% of Python3 online submissions for Palindrome Number.\n",
    "Memory Usage: 12.8 MB, less than 100.00% of Python3 online submissions for Palindrome Number."
   ]
  },
  {
   "cell_type": "code",
   "execution_count": 28,
   "metadata": {},
   "outputs": [],
   "source": [
    "    \n",
    "    def isPalindrome(x: int) -> int:\n",
    "        if x<0:\n",
    "            return False\n",
    "\n",
    "        if x<10:\n",
    "            return True\n",
    "        \n",
    "        if x%10==0:\n",
    "            return False\n",
    "\n",
    "        y=0\n",
    "        while x>y:\n",
    "            y=y*10 + x%10\n",
    "            x //= 10\n",
    "\n",
    "        return x==y or x==y//10"
   ]
  },
  {
   "cell_type": "code",
   "execution_count": 29,
   "metadata": {},
   "outputs": [
    {
     "name": "stdout",
     "output_type": "stream",
     "text": [
      "False\n",
      "True\n",
      "False\n",
      "False\n",
      "True\n"
     ]
    }
   ],
   "source": [
    "print(isPalindrome(123))\n",
    "print(isPalindrome(121))\n",
    "print(isPalindrome(-121))\n",
    "print(isPalindrome(124))\n",
    "print(isPalindrome(12321))"
   ]
  }
 ],
 "metadata": {
  "kernelspec": {
   "display_name": "py37",
   "language": "python",
   "name": "py37"
  },
  "language_info": {
   "codemirror_mode": {
    "name": "ipython",
    "version": 3
   },
   "file_extension": ".py",
   "mimetype": "text/x-python",
   "name": "python",
   "nbconvert_exporter": "python",
   "pygments_lexer": "ipython3",
   "version": "3.8.8"
  }
 },
 "nbformat": 4,
 "nbformat_minor": 4
}

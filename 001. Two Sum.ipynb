{
 "cells": [
  {
   "cell_type": "markdown",
   "metadata": {},
   "source": [
    "[https://leetcode.com/problems/two-sum/](https://leetcode.com/problems/two-sum/)"
   ]
  },
  {
   "cell_type": "code",
   "execution_count": 4,
   "metadata": {},
   "outputs": [],
   "source": [
    "from typing import List"
   ]
  },
  {
   "cell_type": "code",
   "execution_count": 49,
   "metadata": {},
   "outputs": [],
   "source": [
    "#Runtime: 40 ms, faster than 97.97% of Python3 online submissions for Two Sum.\n",
    "#Memory Usage: 14.3 MB, less than 47.21% of Python3 online submissions for Two Sum.\n",
    "def twoSum(nums: List[int], target: int) -> List[int]:\n",
    "        d={}\n",
    "        for i in range(len(nums)):\n",
    "            complement=target-nums[i]\n",
    "            if d.get(complement) is not None and d[complement]!=i:\n",
    "                return (d[complement], i)\n",
    "            d[nums[i]]=i\n",
    "        return None"
   ]
  },
  {
   "cell_type": "code",
   "execution_count": 52,
   "metadata": {},
   "outputs": [],
   "source": [
    "#Runtime: 44 ms, faster than 92.35% of Python3 online submissions for Two Sum.\n",
    "#Memory Usage: 14.1 MB, less than 61.16% of Python3 online submissions for Two Sum.\n",
    "def twoSum(nums: List[int], target: int) -> List[int]:\n",
    "        d={}\n",
    "        for i,v in enumerate(nums):\n",
    "            complement=target-v\n",
    "            if d.get(complement) is not None and d[complement]!=i:\n",
    "                return (d[complement], i)\n",
    "            d[v]=i\n",
    "        return None"
   ]
  },
  {
   "cell_type": "code",
   "execution_count": 53,
   "metadata": {},
   "outputs": [
    {
     "data": {
      "text/plain": [
       "(0, 1)"
      ]
     },
     "execution_count": 53,
     "metadata": {},
     "output_type": "execute_result"
    }
   ],
   "source": [
    "twoSum([2,7,11,13],9)"
   ]
  },
  {
   "cell_type": "code",
   "execution_count": 54,
   "metadata": {},
   "outputs": [
    {
     "data": {
      "text/plain": [
       "(1, 2)"
      ]
     },
     "execution_count": 54,
     "metadata": {},
     "output_type": "execute_result"
    }
   ],
   "source": [
    "twoSum([3,2,4],6)"
   ]
  },
  {
   "cell_type": "code",
   "execution_count": null,
   "metadata": {},
   "outputs": [],
   "source": []
  }
 ],
 "metadata": {
  "kernelspec": {
   "display_name": "Python 3 (ipykernel)",
   "language": "python",
   "name": "python3"
  },
  "language_info": {
   "codemirror_mode": {
    "name": "ipython",
    "version": 3
   },
   "file_extension": ".py",
   "mimetype": "text/x-python",
   "name": "python",
   "nbconvert_exporter": "python",
   "pygments_lexer": "ipython3",
   "version": "3.10.0"
  }
 },
 "nbformat": 4,
 "nbformat_minor": 4
}

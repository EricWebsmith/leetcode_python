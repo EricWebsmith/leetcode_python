{
 "cells": [
  {
   "cell_type": "markdown",
   "id": "304a98cc",
   "metadata": {},
   "source": [
    "# 11. Container With Most Water\n",
    "https://leetcode.com/problems/container-with-most-water/"
   ]
  },
  {
   "cell_type": "code",
   "execution_count": 1,
   "id": "b995043a",
   "metadata": {},
   "outputs": [],
   "source": [
    "from typing import List\n",
    "def maxArea(height: List[int]) -> int:\n",
    "    pass"
   ]
  },
  {
   "cell_type": "code",
   "execution_count": 2,
   "id": "369a6a4d",
   "metadata": {},
   "outputs": [],
   "source": [
    "tests = [\n",
    "    {\n",
    "        'input': \n",
    "        {\n",
    "            'height': [1,8,6,2,5,4,8,3,7]\n",
    "        },\n",
    "        'output': 49\n",
    "    },\n",
    "    {\n",
    "        'input': \n",
    "        {\n",
    "            'height': [1,1]\n",
    "        },\n",
    "        'output': 1\n",
    "    },\n",
    "    {\n",
    "        'input': \n",
    "        {\n",
    "            'height': [4,3,2,1,4]\n",
    "        },\n",
    "        'output': 16\n",
    "    },\n",
    "    {\n",
    "        'input': \n",
    "        {\n",
    "            'height': [1,2,1]\n",
    "        },\n",
    "        'output': 2\n",
    "    },\n",
    "]"
   ]
  },
  {
   "cell_type": "code",
   "execution_count": 3,
   "id": "4b300d79",
   "metadata": {},
   "outputs": [
    {
     "data": {
      "text/plain": [
       "[{'input': {'height': [1, 8, 6, 2, 5, 4, 8, 3, 7]}, 'output': 49},\n",
       " {'input': {'height': [1, 1]}, 'output': 1},\n",
       " {'input': {'height': [4, 3, 2, 1, 4]}, 'output': 16},\n",
       " {'input': {'height': [1, 2, 1]}, 'output': 2}]"
      ]
     },
     "execution_count": 3,
     "metadata": {},
     "output_type": "execute_result"
    }
   ],
   "source": [
    "tests"
   ]
  },
  {
   "cell_type": "code",
   "execution_count": 4,
   "id": "0948bd4a",
   "metadata": {},
   "outputs": [],
   "source": [
    "def test_all(func):\n",
    "    for test in tests:\n",
    "        actual = func(**test['input'])\n",
    "        status = 'pass' if actual == test['output'] else 'fail'\n",
    "        print(f\"{status}, expected: {test['output']}, actual: {actual}\")"
   ]
  },
  {
   "cell_type": "code",
   "execution_count": 5,
   "id": "8b060996",
   "metadata": {},
   "outputs": [
    {
     "name": "stdout",
     "output_type": "stream",
     "text": [
      "fail, expected: 49, actual: None\n",
      "fail, expected: 1, actual: None\n",
      "fail, expected: 16, actual: None\n",
      "fail, expected: 2, actual: None\n"
     ]
    }
   ],
   "source": [
    "test_all(maxArea)"
   ]
  },
  {
   "cell_type": "markdown",
   "id": "6d966ed0",
   "metadata": {},
   "source": [
    "# Brutal Force"
   ]
  },
  {
   "cell_type": "code",
   "execution_count": 6,
   "id": "cfa8c4eb",
   "metadata": {},
   "outputs": [],
   "source": [
    "def brutal_force(height):\n",
    "    n = len(height)\n",
    "    max_area = 0\n",
    "    for i in range(n):\n",
    "        for j in range(i+1, n):\n",
    "            area = min(height[i], height[j]) * (j - i)\n",
    "            max_area = max(max_area, area)\n",
    "    \n",
    "    return max_area"
   ]
  },
  {
   "cell_type": "code",
   "execution_count": 7,
   "id": "20cfdfdd",
   "metadata": {},
   "outputs": [
    {
     "name": "stdout",
     "output_type": "stream",
     "text": [
      "pass, expected: 49, actual: 49\n",
      "pass, expected: 1, actual: 1\n",
      "pass, expected: 16, actual: 16\n",
      "pass, expected: 2, actual: 2\n"
     ]
    }
   ],
   "source": [
    "test_all(brutal_force)"
   ]
  },
  {
   "cell_type": "markdown",
   "id": "f3d54f51",
   "metadata": {},
   "source": [
    "# Two points"
   ]
  },
  {
   "cell_type": "code",
   "execution_count": 11,
   "id": "a2c417db",
   "metadata": {},
   "outputs": [],
   "source": [
    "def two_points(height):\n",
    "    n = len(height)\n",
    "    l = 0\n",
    "    r = n - 1\n",
    "    max_area = 0\n",
    "    while l < r:\n",
    "        area = (r - l) * min(height[l], height[r])\n",
    "        max_area = max(max_area, area)\n",
    "        if height[l] <= height[r]:\n",
    "            l += 1\n",
    "        else:\n",
    "            r -= 1\n",
    "    return max_area"
   ]
  },
  {
   "cell_type": "code",
   "execution_count": 12,
   "id": "32c7f673",
   "metadata": {},
   "outputs": [
    {
     "name": "stdout",
     "output_type": "stream",
     "text": [
      "pass, expected: 49, actual: 49\n",
      "pass, expected: 1, actual: 1\n",
      "pass, expected: 16, actual: 16\n",
      "pass, expected: 2, actual: 2\n"
     ]
    }
   ],
   "source": [
    "test_all(two_points)"
   ]
  },
  {
   "cell_type": "code",
   "execution_count": null,
   "id": "d6f543b1",
   "metadata": {},
   "outputs": [],
   "source": []
  }
 ],
 "metadata": {
  "kernelspec": {
   "display_name": "py37",
   "language": "python",
   "name": "py37"
  },
  "language_info": {
   "codemirror_mode": {
    "name": "ipython",
    "version": 3
   },
   "file_extension": ".py",
   "mimetype": "text/x-python",
   "name": "python",
   "nbconvert_exporter": "python",
   "pygments_lexer": "ipython3",
   "version": "3.8.8"
  }
 },
 "nbformat": 4,
 "nbformat_minor": 5
}

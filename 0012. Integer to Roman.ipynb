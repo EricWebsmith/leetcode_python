{
 "cells": [
  {
   "cell_type": "markdown",
   "id": "285d032a",
   "metadata": {},
   "source": [
    "# 12. Integer to Roman\n",
    "https://leetcode.com/problems/integer-to-roman/"
   ]
  },
  {
   "cell_type": "code",
   "execution_count": 1,
   "id": "0f796905",
   "metadata": {},
   "outputs": [],
   "source": [
    "def intToRoman(num: int) -> str:\n",
    "    pass"
   ]
  },
  {
   "cell_type": "code",
   "execution_count": 2,
   "id": "e1b7d2f9",
   "metadata": {},
   "outputs": [
    {
     "data": {
      "text/plain": [
       "[{'input': {'num': 3}, 'output': 'III'},\n",
       " {'input': {'num': 4}, 'output': 'IV'},\n",
       " {'input': {'num': 9}, 'output': 'IX'},\n",
       " {'input': {'num': 58}, 'output': 'LVIII'},\n",
       " {'input': {'num': 1994}, 'output': 'MCMXCIV'}]"
      ]
     },
     "execution_count": 2,
     "metadata": {},
     "output_type": "execute_result"
    }
   ],
   "source": [
    "tests = [\n",
    "    {\n",
    "        'input':{\n",
    "            'num': 3\n",
    "        },\n",
    "        'output': 'III'\n",
    "    },\n",
    "    {\n",
    "        'input':{\n",
    "            'num': 4\n",
    "        },\n",
    "        'output': 'IV'\n",
    "    },\n",
    "    {\n",
    "        'input':{\n",
    "            'num': 9\n",
    "        },\n",
    "        'output': 'IX'\n",
    "    },\n",
    "    {\n",
    "        'input':{\n",
    "            'num': 58\n",
    "        },\n",
    "        'output': 'LVIII'\n",
    "    },\n",
    "    {\n",
    "        'input':{\n",
    "            'num': 1994\n",
    "        },\n",
    "        'output': 'MCMXCIV'\n",
    "    },\n",
    "]\n",
    "\n",
    "tests"
   ]
  },
  {
   "cell_type": "code",
   "execution_count": 3,
   "id": "4153dadc",
   "metadata": {},
   "outputs": [
    {
     "name": "stdout",
     "output_type": "stream",
     "text": [
      "fail, expected: III, actual: None\n",
      "fail, expected: IV, actual: None\n",
      "fail, expected: IX, actual: None\n",
      "fail, expected: LVIII, actual: None\n",
      "fail, expected: MCMXCIV, actual: None\n"
     ]
    }
   ],
   "source": [
    "def test_all(func):\n",
    "    for test in tests:\n",
    "        actual = func(**test['input'])\n",
    "        status = 'pass' if actual == test['output'] else 'fail'\n",
    "        print(f\"{status}, expected: {test['output']}, actual: {actual}\")\n",
    "\n",
    "test_all(intToRoman)"
   ]
  },
  {
   "cell_type": "markdown",
   "id": "34ad2750",
   "metadata": {},
   "source": [
    "# Solution\n",
    "This is just one-one mapping in different position."
   ]
  },
  {
   "cell_type": "code",
   "execution_count": 11,
   "id": "0c86340f",
   "metadata": {},
   "outputs": [],
   "source": [
    "ones = ['','I', 'II', 'III', 'IV', 'V', 'VI', 'VII', 'VIII', 'IX']\n",
    "tens = ['', 'X', 'XX', 'XXX', 'XL', 'L', 'LX', 'LXX', 'LXXX', 'XC']\n",
    "hundreds = ['', 'C', 'CC', 'CCC', 'CD', 'D', 'DC', 'DCC', 'DCCC', 'CM']\n",
    "thousands = ['', 'M', 'MM', 'MMM']\n",
    "\n",
    "def int_to_roman(num: int) -> str:\n",
    "    return thousands[num // 1000] + hundreds[num % 1000 // 100] + tens[num % 100 // 10] + ones[num % 10]"
   ]
  },
  {
   "cell_type": "code",
   "execution_count": 12,
   "id": "65e21b51",
   "metadata": {},
   "outputs": [
    {
     "name": "stdout",
     "output_type": "stream",
     "text": [
      "pass, expected: III, actual: III\n",
      "pass, expected: IV, actual: IV\n",
      "pass, expected: IX, actual: IX\n",
      "pass, expected: LVIII, actual: LVIII\n",
      "pass, expected: MCMXCIV, actual: MCMXCIV\n"
     ]
    }
   ],
   "source": [
    "test_all(int_to_roman)"
   ]
  },
  {
   "cell_type": "code",
   "execution_count": 8,
   "id": "9f772592",
   "metadata": {},
   "outputs": [
    {
     "data": {
      "text/plain": [
       "1"
      ]
     },
     "execution_count": 8,
     "metadata": {},
     "output_type": "execute_result"
    }
   ],
   "source": [
    "1994 //1000"
   ]
  },
  {
   "cell_type": "markdown",
   "id": "06e95222",
   "metadata": {},
   "source": [
    "result:\n",
    "    \n",
    "Runtime: 36 ms, faster than 98.92% of Python3 online submissions for Integer to Roman."
   ]
  },
  {
   "cell_type": "code",
   "execution_count": null,
   "id": "5abe8a7c",
   "metadata": {},
   "outputs": [],
   "source": []
  }
 ],
 "metadata": {
  "kernelspec": {
   "display_name": "py37",
   "language": "python",
   "name": "py37"
  },
  "language_info": {
   "codemirror_mode": {
    "name": "ipython",
    "version": 3
   },
   "file_extension": ".py",
   "mimetype": "text/x-python",
   "name": "python",
   "nbconvert_exporter": "python",
   "pygments_lexer": "ipython3",
   "version": "3.8.8"
  }
 },
 "nbformat": 4,
 "nbformat_minor": 5
}

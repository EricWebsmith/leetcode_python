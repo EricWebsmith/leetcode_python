{
 "cells": [
  {
   "cell_type": "code",
   "execution_count": null,
   "metadata": {},
   "outputs": [],
   "source": []
  },
  {
   "cell_type": "code",
   "execution_count": null,
   "metadata": {},
   "outputs": [],
   "source": [
    "#Runtime: 44 ms, faster than 72.52% of Python3 online submissions for Roman to Integer.\n",
    "#Memory Usage: 12.8 MB, less than 100.00% of Python3 online submissions for Roman to Integer.\n",
    "class Solution:\n",
    "    def romanToInt(self, s: str) -> int:\n",
    "        s=s.upper()\n",
    "        l = len(s)\n",
    "        result=0\n",
    "        C=100\n",
    "        X=10\n",
    "        I=1\n",
    "        for i in range(len(s)):\n",
    "            c=s[l-i-1]\n",
    "            if c=='M':\n",
    "                result+=1000\n",
    "                C=-100\n",
    "            elif c=='D':\n",
    "                result+=500\n",
    "                C=-100\n",
    "            elif c=='C':\n",
    "                result+=C\n",
    "                X=-10\n",
    "            elif c=='L':\n",
    "                result+=50\n",
    "                X=-10\n",
    "            elif c=='X':\n",
    "                result+=X\n",
    "                I=-1\n",
    "            elif c=='V':\n",
    "                result+=5\n",
    "                I=-1\n",
    "            elif c=='I':\n",
    "                result+=I\n",
    "\n",
    "        return result"
   ]
  }
 ],
 "metadata": {
  "kernelspec": {
   "display_name": "Python 3",
   "language": "python",
   "name": "python3"
  },
  "language_info": {
   "codemirror_mode": {
    "name": "ipython",
    "version": 3
   },
   "file_extension": ".py",
   "mimetype": "text/x-python",
   "name": "python",
   "nbconvert_exporter": "python",
   "pygments_lexer": "ipython3",
   "version": "3.7.4"
  }
 },
 "nbformat": 4,
 "nbformat_minor": 4
}

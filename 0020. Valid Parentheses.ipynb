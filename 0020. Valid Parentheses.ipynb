{
 "cells": [
  {
   "cell_type": "markdown",
   "metadata": {},
   "source": [
    "Given a string containing just the characters '(', ')', '{', '}', '[' and ']', determine if the input string is valid.\n",
    "\n",
    "An input string is valid if:\n",
    "\n",
    "Open brackets must be closed by the same type of brackets.\n",
    "Open brackets must be closed in the correct order.\n",
    "Note that an empty string is also considered valid."
   ]
  },
  {
   "cell_type": "markdown",
   "metadata": {},
   "source": [
    "Runtime: 20 ms, faster than 97.76% of Python3 online submissions for Valid Parentheses.\n",
    "Memory Usage: 12.9 MB, less than 100.00% of Python3 online submissions for Valid Parentheses."
   ]
  },
  {
   "cell_type": "code",
   "execution_count": 89,
   "metadata": {},
   "outputs": [],
   "source": [
    "\n",
    "    def isValid(s: str) -> bool:\n",
    "                \n",
    "        if len(s)==0:\n",
    "            return True\n",
    "        \n",
    "        if len(s)%2==1:\n",
    "            return False\n",
    "        \n",
    "        from collections import deque\n",
    "        stack = deque()\n",
    "\n",
    "        \n",
    "        #print(f'-----------------{s}------------------')\n",
    "        parentheses={}\n",
    "        parentheses['(']=1\n",
    "        parentheses['{']=2\n",
    "        parentheses['[']=3\n",
    "        parentheses[')']=-1\n",
    "        parentheses['}']=-2\n",
    "        parentheses[']']=-3\n",
    "\n",
    "        for tt in map(parentheses.get, s):\n",
    "            if tt>0:\n",
    "                stack.append(tt)\n",
    "            if tt<0:\n",
    "                if len(stack)==0:\n",
    "                    return False\n",
    "                v=stack.pop()\n",
    "                if tt+v!=0:\n",
    "                    return False\n",
    "        if len(stack)>0:\n",
    "            return False\n",
    "        return True\n",
    "\n"
   ]
  },
  {
   "cell_type": "markdown",
   "metadata": {},
   "source": [
    "Runtime: 20 ms, faster than 97.76% of Python3 online submissions for Valid Parentheses.\n",
    "Memory Usage: 12.9 MB, less than 100.00% of Python3 online submissions for Valid Parentheses."
   ]
  },
  {
   "cell_type": "code",
   "execution_count": 94,
   "metadata": {},
   "outputs": [],
   "source": [
    "    def isValid(s: str) -> bool:\n",
    "                \n",
    "        if len(s)==0:\n",
    "            return True\n",
    "        \n",
    "        if len(s)%2==1:\n",
    "            return False\n",
    "        \n",
    "        from collections import deque\n",
    "        stack = deque()\n",
    "\n",
    "        for ss in s:\n",
    "            if ss in '({[':\n",
    "                stack.append(ss)\n",
    "            else:\n",
    "                if len(stack)==0:\n",
    "                    return False\n",
    "                v=stack.pop()\n",
    "                if not v+ss in ['()','[]','{}']:\n",
    "                    return False\n",
    "        if len(stack)>0:\n",
    "            return False\n",
    "        return True"
   ]
  },
  {
   "cell_type": "code",
   "execution_count": 95,
   "metadata": {},
   "outputs": [
    {
     "name": "stdout",
     "output_type": "stream",
     "text": [
      "True\n",
      "True\n",
      "False\n",
      "False\n",
      "True\n",
      "False\n"
     ]
    }
   ],
   "source": [
    "print(isValid(\"()\"))\n",
    "print(isValid(\"()[]{}\"))\n",
    "print(isValid(\"(]\"))\n",
    "print(isValid(\"([)]\"))\n",
    "print(isValid(\"{[]}\"))\n",
    "print(isValid(\"[\"))\n"
   ]
  },
  {
   "cell_type": "code",
   "execution_count": null,
   "metadata": {},
   "outputs": [],
   "source": []
  }
 ],
 "metadata": {
  "kernelspec": {
   "display_name": "Python 3",
   "language": "python",
   "name": "python3"
  },
  "language_info": {
   "codemirror_mode": {
    "name": "ipython",
    "version": 3
   },
   "file_extension": ".py",
   "mimetype": "text/x-python",
   "name": "python",
   "nbconvert_exporter": "python",
   "pygments_lexer": "ipython3",
   "version": "3.7.4"
  }
 },
 "nbformat": 4,
 "nbformat_minor": 4
}

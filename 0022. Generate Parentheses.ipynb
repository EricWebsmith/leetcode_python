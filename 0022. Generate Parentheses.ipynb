{
 "cells": [
  {
   "cell_type": "code",
   "execution_count": 43,
   "id": "d91503b9",
   "metadata": {},
   "outputs": [],
   "source": [
    "def generate_parenthesis(n):\n",
    "    results = []\n",
    "    def generate(s, n_opens):\n",
    "        if len(s) == 2 * n:\n",
    "            results.append(s)\n",
    "        if n_opens < n:\n",
    "            generate(s + '(', n_opens+1)\n",
    "            if len(s) - n_opens < n_opens:\n",
    "                generate(s + ')', n_opens)\n",
    "        else:\n",
    "            results.append(s + ')' * (2 * n - len(s))) \n",
    "    generate('(', 1)\n",
    "    return results"
   ]
  },
  {
   "cell_type": "code",
   "execution_count": 44,
   "id": "82753253",
   "metadata": {},
   "outputs": [
    {
     "data": {
      "text/plain": [
       "['((()))', '(()())', '(())()', '()(())', '()()()']"
      ]
     },
     "execution_count": 44,
     "metadata": {},
     "output_type": "execute_result"
    }
   ],
   "source": [
    "generate_parenthesis(3)"
   ]
  },
  {
   "cell_type": "code",
   "execution_count": null,
   "id": "9fa9a813",
   "metadata": {},
   "outputs": [],
   "source": []
  },
  {
   "cell_type": "markdown",
   "id": "6ec79a74",
   "metadata": {},
   "source": [
    "result:\n",
    "    \n",
    "Runtime: 32 ms, faster than 90.59% of Python3 online submissions for Generate Parentheses.\n",
    "    \n",
    "Memory Usage: 14.6 MB, less than 68.21% of Python3 online submissions for Generate Parentheses."
   ]
  },
  {
   "cell_type": "code",
   "execution_count": null,
   "id": "8cd016ed",
   "metadata": {},
   "outputs": [],
   "source": []
  }
 ],
 "metadata": {
  "kernelspec": {
   "display_name": "py37",
   "language": "python",
   "name": "py37"
  },
  "language_info": {
   "codemirror_mode": {
    "name": "ipython",
    "version": 3
   },
   "file_extension": ".py",
   "mimetype": "text/x-python",
   "name": "python",
   "nbconvert_exporter": "python",
   "pygments_lexer": "ipython3",
   "version": "3.8.8"
  }
 },
 "nbformat": 4,
 "nbformat_minor": 5
}

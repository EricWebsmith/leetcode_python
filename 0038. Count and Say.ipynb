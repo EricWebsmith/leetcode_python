{
 "cells": [
  {
   "cell_type": "markdown",
   "metadata": {},
   "source": [
    "# 38. Count and Say\n",
    "\n",
    "<pre>\n",
    "The count-and-say sequence is the sequence of integers with the first five terms as following:\n",
    "\n",
    "1.     1\n",
    "2.     11\n",
    "3.     21\n",
    "4.     1211\n",
    "5.     111221\n",
    "</pre>"
   ]
  },
  {
   "cell_type": "code",
   "execution_count": 40,
   "metadata": {},
   "outputs": [],
   "source": [
    "    def countAndSay(n: int) -> str:\n",
    "        if n==1:\n",
    "            return '1'\n",
    "        elif n==2:\n",
    "            return '11'\n",
    "        dp=[''] * (n)\n",
    "        dp[0]='1'\n",
    "        dp[1]='11'\n",
    "        #print(dp)\n",
    "        for i in range(2, n):\n",
    "            count=1\n",
    "            #print(i)\n",
    "            previous=dp[i-1][0]\n",
    "            for c in dp[i-1][1:]:\n",
    "                #print(f'previous={previous}, c={c}')\n",
    "                if c==previous:\n",
    "                    #print(f'count+=1')\n",
    "                    count+=1\n",
    "                else:\n",
    "                    dp[i]+=str(count)+previous\n",
    "                    #print(f'dp[i]+=str(count)+c={dp[i]}')\n",
    "                    count=1\n",
    "                    previous=c\n",
    "            dp[i]=dp[i]+str(count)+previous\n",
    "            \n",
    "            #print(dp)\n",
    "        return dp[-1]"
   ]
  },
  {
   "cell_type": "code",
   "execution_count": 41,
   "metadata": {},
   "outputs": [
    {
     "data": {
      "text/plain": [
       "'111221'"
      ]
     },
     "execution_count": 41,
     "metadata": {},
     "output_type": "execute_result"
    }
   ],
   "source": [
    "countAndSay(5)"
   ]
  },
  {
   "cell_type": "code",
   "execution_count": 42,
   "metadata": {},
   "outputs": [
    {
     "data": {
      "text/plain": [
       "'1'"
      ]
     },
     "execution_count": 42,
     "metadata": {},
     "output_type": "execute_result"
    }
   ],
   "source": [
    "countAndSay(1)"
   ]
  },
  {
   "cell_type": "code",
   "execution_count": null,
   "metadata": {},
   "outputs": [],
   "source": []
  }
 ],
 "metadata": {
  "kernelspec": {
   "display_name": "Python 3",
   "language": "python",
   "name": "python3"
  },
  "language_info": {
   "codemirror_mode": {
    "name": "ipython",
    "version": 3
   },
   "file_extension": ".py",
   "mimetype": "text/x-python",
   "name": "python",
   "nbconvert_exporter": "python",
   "pygments_lexer": "ipython3",
   "version": "3.7.4"
  }
 },
 "nbformat": 4,
 "nbformat_minor": 4
}

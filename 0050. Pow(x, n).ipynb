{
 "cells": [
  {
   "cell_type": "markdown",
   "metadata": {},
   "source": [
    "Implement pow(x, n), which calculates x raised to the power n (xn)."
   ]
  },
  {
   "cell_type": "markdown",
   "metadata": {},
   "source": [
    "Runtime: 24 ms, faster than 87.52% of Python3 online submissions for Pow(x, n).\n",
    "Memory Usage: 12.8 MB, less than 100.00% of Python3 online submissions for Pow(x, n)."
   ]
  },
  {
   "cell_type": "code",
   "execution_count": 29,
   "metadata": {},
   "outputs": [],
   "source": [
    "class Solution:\n",
    "    def myPow(self, x: float, n: int) -> float:\n",
    "        if n==0:\n",
    "            return 1\n",
    "        elif n>0:\n",
    "            return self.positivePow(x,n)\n",
    "        else:\n",
    "            return 1/self.positivePow(x,-n)\n",
    "    \n",
    "    def positivePow(self, x: float, n: int) -> float:\n",
    "        if n%2==0:\n",
    "            half=self.positivePow(x, n/2)\n",
    "            return half*half\n",
    "        elif n==1:\n",
    "            return x\n",
    "        else:\n",
    "            half=self.positivePow(x, (n-1)/2)\n",
    "            return half*half*x\n",
    "        "
   ]
  },
  {
   "cell_type": "code",
   "execution_count": 30,
   "metadata": {},
   "outputs": [
    {
     "name": "stdout",
     "output_type": "stream",
     "text": [
      "4\n",
      "1024\n",
      "9.261000000000001\n",
      "0.25\n"
     ]
    }
   ],
   "source": [
    "s=Solution()\n",
    "print(s.myPow(2,2))\n",
    "print(s.myPow(2,10))\n",
    "print(s.myPow(2.1,3))\n",
    "print(s.myPow(2,-2))"
   ]
  }
 ],
 "metadata": {
  "kernelspec": {
   "display_name": "Python 3",
   "language": "python",
   "name": "python3"
  },
  "language_info": {
   "codemirror_mode": {
    "name": "ipython",
    "version": 3
   },
   "file_extension": ".py",
   "mimetype": "text/x-python",
   "name": "python",
   "nbconvert_exporter": "python",
   "pygments_lexer": "ipython3",
   "version": "3.7.4"
  }
 },
 "nbformat": 4,
 "nbformat_minor": 4
}

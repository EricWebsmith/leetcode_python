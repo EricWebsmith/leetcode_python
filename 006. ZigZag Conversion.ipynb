{
 "cells": [
  {
   "cell_type": "markdown",
   "id": "63bf9c63",
   "metadata": {},
   "source": [
    "# 6. ZigZag Conversion\n",
    "\n",
    "https://leetcode.com/problems/zigzag-conversion/"
   ]
  },
  {
   "cell_type": "code",
   "execution_count": 62,
   "id": "3ee9b6ba",
   "metadata": {},
   "outputs": [],
   "source": [
    "def convert(s: str, numRows: int) -> str:\n",
    "    pass"
   ]
  },
  {
   "cell_type": "code",
   "execution_count": 63,
   "id": "024e76d6",
   "metadata": {},
   "outputs": [],
   "source": [
    "tests = [\n",
    "    {\n",
    "        'input':\n",
    "        {\n",
    "            's':\"PAYPALISHIRING\",\n",
    "            'numRows':3\n",
    "        },\n",
    "        'output':\"PAHNAPLSIIGYIR\"\n",
    "    },\n",
    "    {\n",
    "        'input':\n",
    "        {\n",
    "            's':\"PAYPALISHIRING\",\n",
    "            'numRows':4\n",
    "        },\n",
    "        'output':\"PINALSIGYAHRPI\"\n",
    "    },\n",
    "    {\n",
    "        'input':\n",
    "        {\n",
    "            's':\"A\",\n",
    "            'numRows':1\n",
    "        },\n",
    "        'output':\"A\"\n",
    "    },\n",
    "    {\n",
    "        'input':\n",
    "        {\n",
    "            's':\"AB\",\n",
    "            'numRows':1\n",
    "        },\n",
    "        'output':\"AB\"\n",
    "    },\n",
    "]"
   ]
  },
  {
   "cell_type": "code",
   "execution_count": 64,
   "id": "7a947bdf",
   "metadata": {},
   "outputs": [],
   "source": [
    "def test_all(func):\n",
    "    for test in tests:\n",
    "        actual = func(**test['input'])\n",
    "        status = 'pass' if actual == test['output'] else 'fail'\n",
    "        print(f\"{status}, expected: {test['output']}, actual: {actual}\")"
   ]
  },
  {
   "cell_type": "code",
   "execution_count": 65,
   "id": "3ac07adf",
   "metadata": {},
   "outputs": [
    {
     "name": "stdout",
     "output_type": "stream",
     "text": [
      "fail, expected: PAHNAPLSIIGYIR, actual: None\n",
      "fail, expected: PINALSIGYAHRPI, actual: None\n",
      "fail, expected: A, actual: None\n",
      "fail, expected: AB, actual: None\n"
     ]
    }
   ],
   "source": [
    "test_all(convert)"
   ]
  },
  {
   "cell_type": "markdown",
   "id": "b6c8f29d",
   "metadata": {},
   "source": [
    "# zigzag\n"
   ]
  },
  {
   "cell_type": "code",
   "execution_count": 66,
   "id": "f607c936",
   "metadata": {},
   "outputs": [],
   "source": [
    "def convert(s, numRows):\n",
    "    if numRows == 1:\n",
    "        return s\n",
    "    str_list = [''] * numRows\n",
    "    index = 0\n",
    "    height = 0\n",
    "    UP = -1\n",
    "    DOWN = 1\n",
    "    direction = DOWN\n",
    "    \n",
    "    # str_list[0] = s[0]\n",
    "    while index < len(s):\n",
    "        # print(height, index)\n",
    "        \n",
    "        str_list[height] += s[index]\n",
    "        \n",
    "        # turn\n",
    "        if direction == DOWN and height == numRows-1:\n",
    "            direction = UP\n",
    "            # print(f\"turn up {UP}\")\n",
    "        \n",
    "        if direction == UP and height == 0:\n",
    "            direction = DOWN\n",
    "            # print(\"turn down\")\n",
    "        \n",
    "        # step\n",
    "        height = height + direction\n",
    "        # print(f\"height, direction {height}, {direction}\")\n",
    "        index += 1\n",
    "    \n",
    "    return \"\".join(str_list)"
   ]
  },
  {
   "cell_type": "code",
   "execution_count": 67,
   "id": "d868f458",
   "metadata": {},
   "outputs": [
    {
     "data": {
      "text/plain": [
       "'PAHNAPLSIIGYIR'"
      ]
     },
     "execution_count": 67,
     "metadata": {},
     "output_type": "execute_result"
    }
   ],
   "source": [
    "convert(**tests[0]['input'])"
   ]
  },
  {
   "cell_type": "code",
   "execution_count": 68,
   "id": "8d86cb0e",
   "metadata": {},
   "outputs": [
    {
     "name": "stdout",
     "output_type": "stream",
     "text": [
      "pass, expected: PAHNAPLSIIGYIR, actual: PAHNAPLSIIGYIR\n",
      "pass, expected: PINALSIGYAHRPI, actual: PINALSIGYAHRPI\n",
      "pass, expected: A, actual: A\n",
      "pass, expected: AB, actual: AB\n"
     ]
    }
   ],
   "source": [
    "test_all(convert)"
   ]
  },
  {
   "cell_type": "code",
   "execution_count": null,
   "id": "9b786a81",
   "metadata": {},
   "outputs": [],
   "source": []
  }
 ],
 "metadata": {
  "kernelspec": {
   "display_name": "py37",
   "language": "python",
   "name": "py37"
  },
  "language_info": {
   "codemirror_mode": {
    "name": "ipython",
    "version": 3
   },
   "file_extension": ".py",
   "mimetype": "text/x-python",
   "name": "python",
   "nbconvert_exporter": "python",
   "pygments_lexer": "ipython3",
   "version": "3.8.8"
  }
 },
 "nbformat": 4,
 "nbformat_minor": 5
}

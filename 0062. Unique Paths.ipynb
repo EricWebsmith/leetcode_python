{
 "cells": [
  {
   "cell_type": "markdown",
   "id": "b30f3722",
   "metadata": {},
   "source": [
    "# 62. Unique Paths\n",
    "\n",
    "https://leetcode.com/problems/unique-paths/"
   ]
  },
  {
   "cell_type": "code",
   "execution_count": 101,
   "id": "94002d6e",
   "metadata": {},
   "outputs": [],
   "source": [
    "class Solution:\n",
    "    \n",
    "    def comb_with_repeats(self, n: int, r: int) -> int:\n",
    "        res = 1\n",
    "        for i in range(1, r+1):\n",
    "            res = res * (n+r-1) / i\n",
    "            n -= 1\n",
    "\n",
    "        return int(res)\n",
    "    \n",
    "    def uniquePaths(self, m: int, n: int) -> int:\n",
    "        if m > n:\n",
    "            m, n = n, m\n",
    "        return self.comb_with_repeats(n, m-1)"
   ]
  },
  {
   "cell_type": "code",
   "execution_count": 102,
   "id": "98cadd1a",
   "metadata": {},
   "outputs": [],
   "source": [
    "s = Solution()"
   ]
  },
  {
   "cell_type": "code",
   "execution_count": 103,
   "id": "6c7a3392",
   "metadata": {},
   "outputs": [
    {
     "data": {
      "text/plain": [
       "28"
      ]
     },
     "execution_count": 103,
     "metadata": {},
     "output_type": "execute_result"
    }
   ],
   "source": [
    "s.uniquePaths(7, 3)"
   ]
  },
  {
   "cell_type": "code",
   "execution_count": 104,
   "id": "a0be5112",
   "metadata": {},
   "outputs": [],
   "source": [
    "tests = [\n",
    "    {\n",
    "        \"input\":\n",
    "        {\n",
    "            \"m\": 3,\n",
    "            \"n\": 7\n",
    "        },\n",
    "        \"expected\":28\n",
    "    },\n",
    "    {\n",
    "        \"input\":\n",
    "        {\n",
    "            \"m\": 3,\n",
    "            \"n\": 2\n",
    "        },\n",
    "        \"expected\":3\n",
    "    },\n",
    "    {\n",
    "        \"input\":\n",
    "        {\n",
    "            \"m\": 7,\n",
    "            \"n\": 3\n",
    "        },\n",
    "        \"expected\":28\n",
    "    },\n",
    "    {\n",
    "        \"input\":\n",
    "        {\n",
    "            \"m\": 3,\n",
    "            \"n\": 3\n",
    "        },\n",
    "        \"expected\":6\n",
    "    },\n",
    "    {\n",
    "        \"input\":\n",
    "        {\n",
    "            \"m\": 57,\n",
    "            \"n\": 2\n",
    "        },\n",
    "        \"expected\":57\n",
    "    },\n",
    "]"
   ]
  },
  {
   "cell_type": "code",
   "execution_count": 105,
   "id": "2ad4008b",
   "metadata": {},
   "outputs": [],
   "source": [
    "def test_all():\n",
    "    s = Solution()\n",
    "    for test in tests:\n",
    "        actual = s.uniquePaths(**test['input'])\n",
    "        expected = test['expected']\n",
    "        passed = actual == expected\n",
    "        print(f\"{passed}, {expected}, {actual}\")"
   ]
  },
  {
   "cell_type": "code",
   "execution_count": 106,
   "id": "6b2df3ac",
   "metadata": {},
   "outputs": [
    {
     "name": "stdout",
     "output_type": "stream",
     "text": [
      "True, 28, 28\n",
      "True, 3, 3\n",
      "True, 28, 28\n",
      "True, 6, 6\n",
      "True, 57, 57\n"
     ]
    }
   ],
   "source": [
    "test_all()"
   ]
  },
  {
   "cell_type": "code",
   "execution_count": null,
   "id": "45282679",
   "metadata": {},
   "outputs": [],
   "source": []
  },
  {
   "cell_type": "code",
   "execution_count": null,
   "id": "d73d6cb3",
   "metadata": {},
   "outputs": [],
   "source": []
  },
  {
   "cell_type": "code",
   "execution_count": null,
   "id": "45ff9319",
   "metadata": {},
   "outputs": [],
   "source": []
  },
  {
   "cell_type": "code",
   "execution_count": null,
   "id": "1df21a3f",
   "metadata": {},
   "outputs": [],
   "source": []
  }
 ],
 "metadata": {
  "kernelspec": {
   "display_name": "py37",
   "language": "python",
   "name": "py37"
  },
  "language_info": {
   "codemirror_mode": {
    "name": "ipython",
    "version": 3
   },
   "file_extension": ".py",
   "mimetype": "text/x-python",
   "name": "python",
   "nbconvert_exporter": "python",
   "pygments_lexer": "ipython3",
   "version": "3.8.8"
  }
 },
 "nbformat": 4,
 "nbformat_minor": 5
}

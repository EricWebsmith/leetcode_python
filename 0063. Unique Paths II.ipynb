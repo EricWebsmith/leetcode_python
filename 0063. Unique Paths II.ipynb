{
 "cells": [
  {
   "cell_type": "markdown",
   "id": "415881cc",
   "metadata": {},
   "source": [
    "63. Unique Paths II\n",
    "\n",
    "https://leetcode.com/problems/unique-paths-ii/"
   ]
  },
  {
   "cell_type": "code",
   "execution_count": 1,
   "id": "4917be4a",
   "metadata": {},
   "outputs": [],
   "source": [
    "from typing import List"
   ]
  },
  {
   "cell_type": "code",
   "execution_count": 49,
   "id": "f7f1afb8",
   "metadata": {},
   "outputs": [],
   "source": [
    "class Solution:\n",
    "    def uniquePathsWithObstacles(self, obstacleGrid: List[List[int]]) -> int:\n",
    "        g = obstacleGrid\n",
    "        m,n=len(g),len(g[0])\n",
    "        dp=[]\n",
    "        for i in range(m):\n",
    "            tmp=[]\n",
    "            for j in range(n):\n",
    "                tmp.append(0)\n",
    "            dp.append(tmp)\n",
    "        for i in range(m-1,-1,-1):\n",
    "            for j in range(n-1,-1,-1):\n",
    "                if (i,j)==(m-1,n-1):\n",
    "                    if g[i][j]==1:\n",
    "                        return 0\n",
    "                    else:\n",
    "                        dp[i][j]=1\n",
    "                elif i==m-1:\n",
    "                    if g[i][j]!=1 and g[i][j+1]!=1 and dp[i][j+1]!=0:\n",
    "                        dp[i][j]=1\n",
    "                elif j==n-1:\n",
    "                    if g[i][j]!=1 and g[i+1][j]!=1 and dp[i+1][j]!=0:\n",
    "                        dp[i][j]=1\n",
    "                else:\n",
    "                    if g[i][j]!=1:\n",
    "                        dp[i][j]=dp[i+1][j]+dp[i][j+1]\n",
    "        return dp[0][0]"
   ]
  },
  {
   "cell_type": "code",
   "execution_count": 50,
   "id": "90e2089e",
   "metadata": {},
   "outputs": [],
   "source": [
    "tests = [\n",
    "    {\n",
    "        \"input\":{\n",
    "            \"obstacleGrid\": [[0,0,0],[0,1,0],[0,0,0]]\n",
    "        },\n",
    "        \"expected\": 2\n",
    "    },\n",
    "    {\n",
    "        \"input\":{\n",
    "            \"obstacleGrid\": [[0,1],[0,0]]\n",
    "        },\n",
    "        \"expected\": 1\n",
    "    },\n",
    "    {\n",
    "        \"input\":{\n",
    "            \"obstacleGrid\": [[0,1,0,0],[0, 0, 0, 0],[0, 0, 0, 0],[0, 0, 0, 0]]\n",
    "        },\n",
    "        \"expected\": 10\n",
    "    },\n",
    "    {\n",
    "        \"input\":{\n",
    "            \"obstacleGrid\": [[0]]\n",
    "        },\n",
    "        \"expected\": 1\n",
    "    },\n",
    "    {\n",
    "        \"input\":{\n",
    "            \"obstacleGrid\":[[0,1],[1,0]]\n",
    "        },\n",
    "        \"expected\": 0\n",
    "    }\n",
    "]"
   ]
  },
  {
   "cell_type": "code",
   "execution_count": 51,
   "id": "560d7b6b",
   "metadata": {},
   "outputs": [],
   "source": [
    "def test_all():\n",
    "    for test in tests:\n",
    "        s = Solution()\n",
    "        actual = s.uniquePathsWithObstacles(**test['input'])\n",
    "        expected = test['expected']\n",
    "        print(f\"{actual == expected} {expected} {actual}\")"
   ]
  },
  {
   "cell_type": "code",
   "execution_count": 52,
   "id": "077289a6",
   "metadata": {},
   "outputs": [
    {
     "name": "stdout",
     "output_type": "stream",
     "text": [
      "True 2 2\n",
      "True 1 1\n",
      "True 10 10\n",
      "True 1 1\n",
      "True 0 0\n"
     ]
    }
   ],
   "source": [
    "test_all()"
   ]
  },
  {
   "cell_type": "code",
   "execution_count": null,
   "id": "aa75136a",
   "metadata": {},
   "outputs": [],
   "source": []
  }
 ],
 "metadata": {
  "kernelspec": {
   "display_name": "py37",
   "language": "python",
   "name": "py37"
  },
  "language_info": {
   "codemirror_mode": {
    "name": "ipython",
    "version": 3
   },
   "file_extension": ".py",
   "mimetype": "text/x-python",
   "name": "python",
   "nbconvert_exporter": "python",
   "pygments_lexer": "ipython3",
   "version": "3.8.8"
  }
 },
 "nbformat": 4,
 "nbformat_minor": 5
}

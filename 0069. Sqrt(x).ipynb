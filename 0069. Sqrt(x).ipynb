{
 "cells": [
  {
   "cell_type": "markdown",
   "metadata": {},
   "source": [
    "# 69. Sqrt(x)\n",
    "\n",
    "Implement int sqrt(int x).\n",
    "\n",
    "Compute and return the square root of x, where x is guaranteed to be a non-negative integer.\n",
    "\n",
    "Since the return type is an integer, the decimal digits are truncated and only the integer part of the result is returned."
   ]
  },
  {
   "cell_type": "markdown",
   "metadata": {},
   "source": [
    "Runtime: 28 ms, faster than 90.13% of Python3 online submissions for Sqrt(x).\n",
    "Memory Usage: 12.5 MB, less than 100.00% of Python3 online submissions for Sqrt(x)."
   ]
  },
  {
   "cell_type": "code",
   "execution_count": 68,
   "metadata": {},
   "outputs": [],
   "source": [
    "    def mySqrt(x: int) -> int:\n",
    "        if x<2:\n",
    "            return x\n",
    "        \n",
    "        low=1\n",
    "        high=x//2+1\n",
    "        low2=low*low\n",
    "        high2=high*high\n",
    "        while high-low>1:\n",
    "            #print(low, high)\n",
    "            middle=(low+high)//2\n",
    "            m2=middle**2\n",
    "            if m2<=x:\n",
    "                low=middle\n",
    "            else:\n",
    "                high=middle\n",
    "            \n",
    "        return low"
   ]
  },
  {
   "cell_type": "code",
   "execution_count": 72,
   "metadata": {},
   "outputs": [],
   "source": [
    "assert(mySqrt(4)==2)\n",
    "assert(mySqrt(7)==2)\n",
    "assert(mySqrt(8)==2)\n",
    "assert(mySqrt(9)==3)\n",
    "assert(mySqrt(10)==3)\n",
    "assert(mySqrt(11)==3)\n",
    "assert(mySqrt(2**20)==1024)"
   ]
  },
  {
   "cell_type": "code",
   "execution_count": 1,
   "metadata": {},
   "outputs": [
    {
     "data": {
      "text/plain": [
       "1048576"
      ]
     },
     "execution_count": 1,
     "metadata": {},
     "output_type": "execute_result"
    }
   ],
   "source": [
    "2**20"
   ]
  },
  {
   "cell_type": "code",
   "execution_count": null,
   "metadata": {},
   "outputs": [],
   "source": []
  }
 ],
 "metadata": {
  "kernelspec": {
   "display_name": "Python 3 (ipykernel)",
   "language": "python",
   "name": "python3"
  },
  "language_info": {
   "codemirror_mode": {
    "name": "ipython",
    "version": 3
   },
   "file_extension": ".py",
   "mimetype": "text/x-python",
   "name": "python",
   "nbconvert_exporter": "python",
   "pygments_lexer": "ipython3",
   "version": "3.10.0"
  }
 },
 "nbformat": 4,
 "nbformat_minor": 4
}

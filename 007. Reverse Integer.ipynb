{
 "cells": [
  {
   "cell_type": "markdown",
   "metadata": {},
   "source": [
    "Given a 32-bit signed integer, reverse digits of an integer."
   ]
  },
  {
   "cell_type": "code",
   "execution_count": 54,
   "metadata": {},
   "outputs": [],
   "source": [
    "#Runtime: 20 ms, faster than 98.82% of Python3 online submissions for Reverse Integer.\n",
    "#Memory Usage: 12.7 MB, less than 100.00% of Python3 online submissions for Reverse Integer.\n",
    "    def reverse(x: int) -> int:\n",
    "        l=[]\n",
    "        index=0\n",
    "        sign=1\n",
    "        if x<0:\n",
    "            sign=-1\n",
    "        t=abs(x)\n",
    "        print(t)\n",
    "        while t>=10:\n",
    "            r=t % 10\n",
    "            l.append(r)\n",
    "            t=int((t-r)/10)\n",
    "            index+=1\n",
    "        l.append(t)\n",
    "        \n",
    "        print(l)\n",
    "        \n",
    "        s=0\n",
    "        for i in range(len(l)):\n",
    "\n",
    "            s+=l[i]*10**(len(l)-i-1)\n",
    "        s=s*sign\n",
    "        \n",
    "        if s>2**31-1 or s<-2**31:\n",
    "            return 0\n",
    "        \n",
    "        return s"
   ]
  },
  {
   "cell_type": "code",
   "execution_count": 78,
   "metadata": {},
   "outputs": [],
   "source": [
    "    def reverse(x: int) -> int:\n",
    "        sign=1\n",
    "        if x<0:\n",
    "            sign=-1\n",
    "        \n",
    "        x=abs(x)\n",
    "        res=0\n",
    "        \n",
    "        while x>0:\n",
    "            res=10*res + (x % 10)\n",
    "            x //=10\n",
    "        \n",
    "        res*= sign\n",
    "\n",
    "        if res>2**31-1 or res<-2**31:\n",
    "            return 0\n",
    "        \n",
    "        return res"
   ]
  },
  {
   "cell_type": "code",
   "execution_count": 79,
   "metadata": {},
   "outputs": [
    {
     "data": {
      "text/plain": [
       "321"
      ]
     },
     "execution_count": 79,
     "metadata": {},
     "output_type": "execute_result"
    }
   ],
   "source": [
    "reverse(123)"
   ]
  },
  {
   "cell_type": "code",
   "execution_count": 80,
   "metadata": {},
   "outputs": [
    {
     "data": {
      "text/plain": [
       "-321"
      ]
     },
     "execution_count": 80,
     "metadata": {},
     "output_type": "execute_result"
    }
   ],
   "source": [
    "reverse(-123)"
   ]
  },
  {
   "cell_type": "code",
   "execution_count": 81,
   "metadata": {},
   "outputs": [
    {
     "data": {
      "text/plain": [
       "21"
      ]
     },
     "execution_count": 81,
     "metadata": {},
     "output_type": "execute_result"
    }
   ],
   "source": [
    "reverse(120)"
   ]
  },
  {
   "cell_type": "code",
   "execution_count": 82,
   "metadata": {},
   "outputs": [
    {
     "data": {
      "text/plain": [
       "1"
      ]
     },
     "execution_count": 82,
     "metadata": {},
     "output_type": "execute_result"
    }
   ],
   "source": [
    "reverse(10)"
   ]
  },
  {
   "cell_type": "code",
   "execution_count": 27,
   "metadata": {},
   "outputs": [],
   "source": [
    "        l=[]\n",
    "        sign=(x>=0)\n",
    "        index=0\n",
    "        t=-abs(x)\n",
    "        while t>10:\n",
    "            r=t % 10\n",
    "            l.append(r)\n",
    "            t=int((t-r)/10)\n",
    "            index+=1\n",
    "        l.append(t)"
   ]
  },
  {
   "cell_type": "code",
   "execution_count": 28,
   "metadata": {},
   "outputs": [
    {
     "data": {
      "text/plain": [
       "[-123]"
      ]
     },
     "execution_count": 28,
     "metadata": {},
     "output_type": "execute_result"
    }
   ],
   "source": [
    "l"
   ]
  },
  {
   "cell_type": "code",
   "execution_count": 26,
   "metadata": {},
   "outputs": [
    {
     "name": "stdout",
     "output_type": "stream",
     "text": [
      "300\n",
      "320\n",
      "321\n"
     ]
    }
   ],
   "source": [
    "s=0\n",
    "for i in range(len(l)):\n",
    "\n",
    "    s+=l[i]*10**(len(l)-i-1)\n",
    "    print(s)\n",
    "\n"
   ]
  },
  {
   "cell_type": "code",
   "execution_count": 23,
   "metadata": {},
   "outputs": [],
   "source": [
    "s=s*sign"
   ]
  },
  {
   "cell_type": "code",
   "execution_count": 24,
   "metadata": {},
   "outputs": [
    {
     "data": {
      "text/plain": [
       "321"
      ]
     },
     "execution_count": 24,
     "metadata": {},
     "output_type": "execute_result"
    }
   ],
   "source": [
    "s"
   ]
  },
  {
   "cell_type": "code",
   "execution_count": null,
   "metadata": {},
   "outputs": [],
   "source": []
  }
 ],
 "metadata": {
  "kernelspec": {
   "display_name": "Python 3",
   "language": "python",
   "name": "python3"
  },
  "language_info": {
   "codemirror_mode": {
    "name": "ipython",
    "version": 3
   },
   "file_extension": ".py",
   "mimetype": "text/x-python",
   "name": "python",
   "nbconvert_exporter": "python",
   "pygments_lexer": "ipython3",
   "version": "3.7.4"
  }
 },
 "nbformat": 4,
 "nbformat_minor": 4
}

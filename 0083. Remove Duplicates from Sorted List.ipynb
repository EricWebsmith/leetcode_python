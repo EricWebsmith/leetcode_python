{
 "cells": [
  {
   "cell_type": "markdown",
   "id": "9949aefc",
   "metadata": {},
   "source": [
    "# 83. Remove Duplicates from Sorted List\n",
    "\n",
    "https://leetcode.com/problems/remove-duplicates-from-sorted-list/"
   ]
  },
  {
   "cell_type": "code",
   "execution_count": 35,
   "id": "547507e0",
   "metadata": {},
   "outputs": [],
   "source": [
    "from typing import List, Optional\n",
    "\n",
    "class ListNode:\n",
    "    def __init__(self, val=0, next=None):\n",
    "        self.val = val\n",
    "        self.next = next\n",
    "\n",
    "def deleteDuplicates(head: Optional[ListNode]) -> Optional[ListNode]:\n",
    "    return head"
   ]
  },
  {
   "cell_type": "code",
   "execution_count": 36,
   "id": "1b9338d5",
   "metadata": {},
   "outputs": [],
   "source": [
    "def to_list_node(arr: List) -> ListNode:    \n",
    "    first = ListNode(arr[0])\n",
    "    current = first\n",
    "    for i in range(1, len(arr)):\n",
    "        next_node = ListNode(arr[i])\n",
    "        current.next = next_node\n",
    "        current = current.next\n",
    "    return first\n",
    "\n",
    "def to_list(node: ListNode) -> List[int]:\n",
    "    arr = []\n",
    "    pointer = node\n",
    "    # arr.append(node.val)\n",
    "    while pointer:\n",
    "        arr.append(pointer.val)\n",
    "        pointer = pointer.next\n",
    "    return arr"
   ]
  },
  {
   "cell_type": "code",
   "execution_count": 37,
   "id": "f75b3959",
   "metadata": {},
   "outputs": [],
   "source": [
    "tests = [\n",
    "    {\n",
    "        'input': {\n",
    "            'head': [1,1,2]\n",
    "        },\n",
    "        'output': [1, 2]\n",
    "    },\n",
    "    {\n",
    "        'input': {\n",
    "            'head': [1,1,2,3,3]\n",
    "        },\n",
    "        'output': [1,2,3]\n",
    "    },\n",
    "    {\n",
    "        'input': {\n",
    "            'head': [1,1,1]\n",
    "        },\n",
    "        'output': [1]\n",
    "    },\n",
    "]"
   ]
  },
  {
   "cell_type": "code",
   "execution_count": 38,
   "id": "ed2f0202",
   "metadata": {},
   "outputs": [],
   "source": [
    "def test_one(test_case, func):\n",
    "    arr = test_case['input']['head']\n",
    "    head = to_list_node(arr)\n",
    "    head = func(head)\n",
    "    actual = to_list(head)\n",
    "    return actual"
   ]
  },
  {
   "cell_type": "code",
   "execution_count": 39,
   "id": "67e821cd",
   "metadata": {},
   "outputs": [],
   "source": [
    "def test_all(func):\n",
    "    for test_case in tests:\n",
    "        actual = test_one(test_case, func)\n",
    "        status = 'pass' if actual == test_case['output'] else 'fail'\n",
    "        print(f\"{status}, expected: {test_case['output']}, actual: {actual}\")"
   ]
  },
  {
   "cell_type": "code",
   "execution_count": 40,
   "id": "bf2b1d0f",
   "metadata": {},
   "outputs": [
    {
     "name": "stdout",
     "output_type": "stream",
     "text": [
      "fail, expected: [1, 2], actual: [1, 1, 2]\n",
      "fail, expected: [1, 2, 3], actual: [1, 1, 2, 3, 3]\n",
      "fail, expected: [1], actual: [1, 1, 1]\n"
     ]
    }
   ],
   "source": [
    "test_all(deleteDuplicates)"
   ]
  },
  {
   "cell_type": "markdown",
   "id": "86545ea2",
   "metadata": {},
   "source": [
    "# Solution"
   ]
  },
  {
   "cell_type": "code",
   "execution_count": 23,
   "id": "311f24dc",
   "metadata": {},
   "outputs": [],
   "source": []
  },
  {
   "cell_type": "code",
   "execution_count": 24,
   "id": "18a2d05a",
   "metadata": {},
   "outputs": [
    {
     "data": {
      "text/plain": [
       "[1, 1, 2]"
      ]
     },
     "execution_count": 24,
     "metadata": {},
     "output_type": "execute_result"
    }
   ],
   "source": [
    "to_list(first)"
   ]
  },
  {
   "cell_type": "code",
   "execution_count": 33,
   "id": "bccac78d",
   "metadata": {},
   "outputs": [],
   "source": [
    "def remove_duplicate(head: Optional[ListNode]) -> Optional[ListNode]:\n",
    "    if not head:\n",
    "        return head\n",
    "    \n",
    "    pointer = head\n",
    "    while pointer:\n",
    "        while pointer.next and pointer.val == pointer.next.val:\n",
    "            pointer.next = pointer.next.next\n",
    "        pointer = pointer.next\n",
    "    return head"
   ]
  },
  {
   "cell_type": "code",
   "execution_count": 34,
   "id": "e69dcee0",
   "metadata": {},
   "outputs": [
    {
     "name": "stdout",
     "output_type": "stream",
     "text": [
      "pass, expected: [1, 2], actual: [1, 2]\n",
      "pass, expected: [1, 2, 3], actual: [1, 2, 3]\n",
      "pass, expected: [1], actual: [1]\n"
     ]
    }
   ],
   "source": [
    "test_all(remove_duplicate)"
   ]
  },
  {
   "cell_type": "code",
   "execution_count": 26,
   "id": "746c9da4",
   "metadata": {},
   "outputs": [
    {
     "data": {
      "text/plain": [
       "<__main__.ListNode at 0x1c433de3400>"
      ]
     },
     "execution_count": 26,
     "metadata": {},
     "output_type": "execute_result"
    }
   ],
   "source": [
    "remove_duplicate(first)"
   ]
  },
  {
   "cell_type": "code",
   "execution_count": 27,
   "id": "de3a1459",
   "metadata": {},
   "outputs": [
    {
     "data": {
      "text/plain": [
       "[1, 2]"
      ]
     },
     "execution_count": 27,
     "metadata": {},
     "output_type": "execute_result"
    }
   ],
   "source": [
    "to_list(first)"
   ]
  },
  {
   "cell_type": "code",
   "execution_count": null,
   "id": "3542f9db",
   "metadata": {},
   "outputs": [],
   "source": []
  }
 ],
 "metadata": {
  "kernelspec": {
   "display_name": "py37",
   "language": "python",
   "name": "py37"
  },
  "language_info": {
   "codemirror_mode": {
    "name": "ipython",
    "version": 3
   },
   "file_extension": ".py",
   "mimetype": "text/x-python",
   "name": "python",
   "nbconvert_exporter": "python",
   "pygments_lexer": "ipython3",
   "version": "3.8.8"
  }
 },
 "nbformat": 4,
 "nbformat_minor": 5
}

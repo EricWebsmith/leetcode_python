{
 "cells": [
  {
   "cell_type": "markdown",
   "id": "1b483eb6",
   "metadata": {},
   "source": [
    "# 98. Validate Binary Search Tree\n",
    "\n",
    "https://leetcode.com/problems/validate-binary-search-tree/"
   ]
  },
  {
   "cell_type": "code",
   "execution_count": 4,
   "id": "26d2a49a",
   "metadata": {},
   "outputs": [],
   "source": [
    "from typing import Optional"
   ]
  },
  {
   "cell_type": "code",
   "execution_count": 5,
   "id": "6c199605",
   "metadata": {},
   "outputs": [],
   "source": [
    "class TreeNode:\n",
    "    def __init__(self, val=0, left=None, right=None):\n",
    "        self.val = val\n",
    "        self.left = left\n",
    "        self.right = right"
   ]
  },
  {
   "cell_type": "code",
   "execution_count": 6,
   "id": "afd36668",
   "metadata": {},
   "outputs": [],
   "source": [
    "class Solution:\n",
    "    def inorder(self, node):\n",
    "        if not node:\n",
    "            return []\n",
    "        return self.inorder(node.left) + [node.val] + self.inorder(node.right)\n",
    "            \n",
    "    \n",
    "    def isValidBST(self, root: Optional[TreeNode]) -> bool:\n",
    "        arr = inorder(root)\n",
    "        for i in range(1, len(arr)):\n",
    "            if(arr[i-1]>arr[i]):\n",
    "                return false\n",
    "        \n",
    "        return true\n",
    "            "
   ]
  },
  {
   "cell_type": "code",
   "execution_count": 8,
   "id": "3234650e",
   "metadata": {},
   "outputs": [],
   "source": [
    "class Solution:\n",
    "    def dfs(self, root, minValue, maxValue) -> bool:\n",
    "        if not root:\n",
    "            return True\n",
    "        \n",
    "        return self.dfs(root.left, minValue, root.val) and self.dfs(root.right, root.val, maxValue)\n",
    "        \n",
    "    \n",
    "    def isValidBST(self, root: Optional[TreeNode]) -> bool:\n",
    "        return self.dfs(root, float('-inf'), float('inf'))"
   ]
  },
  {
   "cell_type": "code",
   "execution_count": null,
   "id": "46914117",
   "metadata": {},
   "outputs": [],
   "source": []
  },
  {
   "cell_type": "code",
   "execution_count": null,
   "id": "f902cb05",
   "metadata": {},
   "outputs": [],
   "source": []
  }
 ],
 "metadata": {
  "kernelspec": {
   "display_name": "py37",
   "language": "python",
   "name": "py37"
  },
  "language_info": {
   "codemirror_mode": {
    "name": "ipython",
    "version": 3
   },
   "file_extension": ".py",
   "mimetype": "text/x-python",
   "name": "python",
   "nbconvert_exporter": "python",
   "pygments_lexer": "ipython3",
   "version": "3.8.8"
  }
 },
 "nbformat": 4,
 "nbformat_minor": 5
}

{
 "cells": [
  {
   "cell_type": "markdown",
   "metadata": {},
   "source": [
    "# 101. Symmetric Tree\n",
    "\n",
    "Given a binary tree, check whether it is a mirror of itself (ie, symmetric around its center).\n",
    "\n",
    "For example, this binary tree [1,2,2,3,4,4,3] is symmetric:\n",
    "<pre>\n",
    "\n",
    "    1 \n",
    "   / \\ \n",
    "  2   2 \n",
    " / \\ / \\ \n",
    "3  4 4  3 \n",
    "</pre>\n",
    " \n",
    "\n",
    "But the following [1,2,2,null,3,null,3] is not:\n",
    "<pre>\n",
    "    1 \n",
    "   / \\ \n",
    "  2   2 \n",
    "   \\   \\ \n",
    "   3    3 \n",
    "</pre>"
   ]
  },
  {
   "cell_type": "code",
   "execution_count": 20,
   "metadata": {},
   "outputs": [],
   "source": [
    "class TreeNode:\n",
    "    def __init__(self, x):\n",
    "        self.val = x\n",
    "        self.left = None\n",
    "        self.right = None\n",
    "        \n",
    "    def __str__(self):\n",
    "        return str(self.val)\n",
    "    \n",
    "    def __repr__(self):\n",
    "        return str(self.val)"
   ]
  },
  {
   "cell_type": "code",
   "execution_count": 105,
   "metadata": {},
   "outputs": [],
   "source": [
    "    def isSymmetric(root: TreeNode) -> bool:\n",
    "        if root is None:\n",
    "            return True\n",
    "        \n",
    "        left=root.left\n",
    "        right=root.right\n",
    "        left_list=[left]\n",
    "        right_list=[right]\n",
    "        \n",
    "        if left is None and right is None:\n",
    "            return True\n",
    "        \n",
    "        if left is None or right is None:\n",
    "            return False\n",
    "        \n",
    "        if left.val!=right.val:\n",
    "            return False\n",
    "        \n",
    "        \n",
    "        layer=1\n",
    "        while True:\n",
    "            new_left_list=[]\n",
    "            new_right_list=[]\n",
    "            \n",
    "            \n",
    "            print(f'-------------------layer={layer}---------------------')\n",
    "            n=len(left_list)\n",
    "            if n==0:\n",
    "                return True\n",
    "            #n_right=len(left_list)\n",
    "            \n",
    "            #if n==0 and n_right==0:\n",
    "            #    return True\n",
    "            \n",
    "            #if n!=n_right:\n",
    "            #    return False\n",
    "            \n",
    "            print(f'n={n}')\n",
    "            print(left_list, right_list)\n",
    "            for i in range(n):\n",
    "                \n",
    "                print(i)\n",
    "                #compare\n",
    "                if left_list[i] is not None and right_list[i] is not None:\n",
    "                    if left_list[i].val!=right_list[i].val:\n",
    "                        print('left_list[i].left!=right_list[i].right or left_list[i].right!=right_list[i].left:')\n",
    "                        return False\n",
    "\n",
    "                    all_none=False\n",
    "                    new_left_list.append(left_list[i].left)\n",
    "                    new_left_list.append(left_list[i].right)\n",
    "\n",
    "\n",
    "                    all_none=False\n",
    "                    new_right_list.append(right_list[i].right)\n",
    "                    new_right_list.append(right_list[i].left)\n",
    "                elif left_list[i] is None and right_list[i] is None:\n",
    "                    print(\"both none, pass\")\n",
    "                    continue\n",
    "                else:\n",
    "                    return False\n",
    "\n",
    "            left_list=new_left_list\n",
    "            right_list=new_right_list\n",
    "            layer+=1\n",
    "        return True"
   ]
  },
  {
   "cell_type": "code",
   "execution_count": 106,
   "metadata": {},
   "outputs": [
    {
     "name": "stdout",
     "output_type": "stream",
     "text": [
      "-------------------layer=1---------------------\n",
      "n=1\n",
      "[2] [2]\n",
      "0\n",
      "-------------------layer=2---------------------\n",
      "n=2\n",
      "[3, 4] [3, 4]\n",
      "0\n",
      "1\n",
      "-------------------layer=3---------------------\n",
      "n=4\n",
      "[None, None, None, None] [None, None, None, None]\n",
      "0\n",
      "both none, pass\n",
      "1\n",
      "both none, pass\n",
      "2\n",
      "both none, pass\n",
      "3\n",
      "both none, pass\n",
      "-------------------layer=4---------------------\n"
     ]
    },
    {
     "data": {
      "text/plain": [
       "True"
      ]
     },
     "execution_count": 106,
     "metadata": {},
     "output_type": "execute_result"
    }
   ],
   "source": [
    "root=TreeNode(1)\n",
    "root.left=TreeNode(2)\n",
    "root.right=TreeNode(2)\n",
    "root.left.left=TreeNode(3)\n",
    "root.left.right=TreeNode(4)\n",
    "root.right.left=TreeNode(4)\n",
    "root.right.right=TreeNode(3)\n",
    "#root.right.right.right=TreeNode(3)\n",
    "#root.left.left.left=TreeNode(3)\n",
    "isSymmetric(root)"
   ]
  },
  {
   "cell_type": "code",
   "execution_count": 107,
   "metadata": {},
   "outputs": [
    {
     "name": "stdout",
     "output_type": "stream",
     "text": [
      "-------------------layer=1---------------------\n",
      "n=1\n",
      "[2] [2]\n",
      "0\n",
      "-------------------layer=2---------------------\n",
      "n=2\n",
      "[3, 4] [3, None]\n",
      "0\n",
      "1\n"
     ]
    },
    {
     "data": {
      "text/plain": [
       "False"
      ]
     },
     "execution_count": 107,
     "metadata": {},
     "output_type": "execute_result"
    }
   ],
   "source": [
    "root=TreeNode(1)\n",
    "root.left=TreeNode(2)\n",
    "root.right=TreeNode(2)\n",
    "root.left.left=TreeNode(3)\n",
    "root.left.right=TreeNode(4)\n",
    "#root.right.left=TreeNode(4)\n",
    "root.right.right=TreeNode(3)\n",
    "\n",
    "isSymmetric(root)"
   ]
  },
  {
   "cell_type": "code",
   "execution_count": 108,
   "metadata": {},
   "outputs": [
    {
     "data": {
      "text/plain": [
       "1"
      ]
     },
     "execution_count": 108,
     "metadata": {},
     "output_type": "execute_result"
    }
   ],
   "source": [
    "root"
   ]
  },
  {
   "cell_type": "code",
   "execution_count": 109,
   "metadata": {},
   "outputs": [
    {
     "name": "stdout",
     "output_type": "stream",
     "text": [
      "-------------------layer=1---------------------\n",
      "n=1\n",
      "[2] [2]\n",
      "0\n",
      "-------------------layer=2---------------------\n",
      "n=2\n",
      "[None, 3] [3, None]\n",
      "0\n"
     ]
    },
    {
     "data": {
      "text/plain": [
       "False"
      ]
     },
     "execution_count": 109,
     "metadata": {},
     "output_type": "execute_result"
    }
   ],
   "source": [
    "root=TreeNode(1)\n",
    "root.left=TreeNode(2)\n",
    "root.right=TreeNode(2)\n",
    "root.left.right=TreeNode(3)\n",
    "root.right.right=TreeNode(3)\n",
    "isSymmetric(root)"
   ]
  },
  {
   "cell_type": "code",
   "execution_count": null,
   "metadata": {},
   "outputs": [],
   "source": [
    "#32m\n",
    "    def isSymmetric(root: TreeNode) -> bool:\n",
    "        if root is None:\n",
    "            return True\n",
    "        \n",
    "        left=root.left\n",
    "        right=root.right\n",
    "        left_list=[left]\n",
    "        right_list=[right]\n",
    "        \n",
    "        if left is None and right is None:\n",
    "            return True\n",
    "        \n",
    "        if left is None or right is None:\n",
    "            return False\n",
    "        \n",
    "        if left.val!=right.val:\n",
    "            return False\n",
    "        \n",
    "        \n",
    "        layer=1\n",
    "        while True:\n",
    "            new_left_list=[]\n",
    "            new_right_list=[]\n",
    "\n",
    "            n=len(left_list)\n",
    "            if n==0:\n",
    "                return True\n",
    "\n",
    "            for i in range(n):\n",
    "\n",
    "                #compare\n",
    "                if left_list[i] is not None and right_list[i] is not None:\n",
    "                    if left_list[i].val!=right_list[i].val:\n",
    "                        return False\n",
    "\n",
    "                    all_none=False\n",
    "                    new_left_list.append(left_list[i].left)\n",
    "                    new_left_list.append(left_list[i].right)\n",
    "\n",
    "\n",
    "                    all_none=False\n",
    "                    new_right_list.append(right_list[i].right)\n",
    "                    new_right_list.append(right_list[i].left)\n",
    "                elif left_list[i] is None and right_list[i] is None:\n",
    "                    continue\n",
    "                else:\n",
    "                    return False\n",
    "\n",
    "            left_list=new_left_list\n",
    "            right_list=new_right_list\n",
    "            layer+=1\n",
    "        return True"
   ]
  },
  {
   "cell_type": "code",
   "execution_count": null,
   "metadata": {},
   "outputs": [],
   "source": [
    "#28m\n",
    "class Solution:\n",
    "    def isSymmetric(self, root: TreeNode) -> bool:\n",
    "\n",
    "        def check(left, right):\n",
    "            if not left and not right:\n",
    "                return True\n",
    "            elif left and not right or not left and right:\n",
    "                return False\n",
    "            else:\n",
    "                return left.val == right.val and check(left.left, right.right) and check(left.right, right.left)\n",
    "\n",
    "        return check(root.left, root.right) if root else True"
   ]
  }
 ],
 "metadata": {
  "kernelspec": {
   "display_name": "Python 3",
   "language": "python",
   "name": "python3"
  },
  "language_info": {
   "codemirror_mode": {
    "name": "ipython",
    "version": 3
   },
   "file_extension": ".py",
   "mimetype": "text/x-python",
   "name": "python",
   "nbconvert_exporter": "python",
   "pygments_lexer": "ipython3",
   "version": "3.7.4"
  }
 },
 "nbformat": 4,
 "nbformat_minor": 4
}

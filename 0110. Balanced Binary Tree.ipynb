{
 "cells": [
  {
   "cell_type": "markdown",
   "id": "4320bf17",
   "metadata": {},
   "source": [
    "# 110. Balanced Binary Tree\n",
    "\n",
    "https://leetcode.com/problems/balanced-binary-tree/"
   ]
  },
  {
   "cell_type": "code",
   "execution_count": 4,
   "id": "82795aeb",
   "metadata": {},
   "outputs": [],
   "source": [
    "from typing import Optional\n",
    "\n",
    "class TreeNode:\n",
    "    def __init__(self, val=0, left=None, right=None):\n",
    "        self.val = val\n",
    "        self.left = left\n",
    "        self.right = right\n",
    "\n",
    "\n",
    "            "
   ]
  },
  {
   "cell_type": "code",
   "execution_count": 6,
   "id": "66d0c067",
   "metadata": {},
   "outputs": [],
   "source": [
    "class Solution:\n",
    "    def isBalanced(self, root: Optional[TreeNode]) -> bool:\n",
    "        def inner(node: Optional[TreeNode], h: Optional[int]) -> (int, bool):\n",
    "            if node is None:\n",
    "                return h, True\n",
    "            print(node.val, node.left)\n",
    "            h_left, balanced_left = inner(node.left, h+1)\n",
    "            h_right, balanced_right = inner(node.right, h+1)\n",
    "            if not balanced_left or not balanced_right:\n",
    "                return h, False\n",
    "            if abs(h_left - h_right)>1:\n",
    "                return h, False\n",
    "        \n",
    "        h, balanced = inner(root, 0)\n",
    "        return balanced"
   ]
  },
  {
   "cell_type": "markdown",
   "id": "d5eb10b8",
   "metadata": {},
   "source": [
    "# Results\n",
    "\n",
    "Runtime: 52 ms, faster than 76.17% of Python3 online submissions for Balanced Binary Tree.\n",
    "Memory Usage: 19.4 MB, less than 14.43% of Python3 online submissions for Balanced Binary Tree."
   ]
  },
  {
   "cell_type": "code",
   "execution_count": null,
   "id": "80489166",
   "metadata": {},
   "outputs": [],
   "source": []
  }
 ],
 "metadata": {
  "kernelspec": {
   "display_name": "py37",
   "language": "python",
   "name": "py37"
  },
  "language_info": {
   "codemirror_mode": {
    "name": "ipython",
    "version": 3
   },
   "file_extension": ".py",
   "mimetype": "text/x-python",
   "name": "python",
   "nbconvert_exporter": "python",
   "pygments_lexer": "ipython3",
   "version": "3.8.8"
  }
 },
 "nbformat": 4,
 "nbformat_minor": 5
}

{
 "cells": [
  {
   "cell_type": "markdown",
   "id": "2a31fa2d",
   "metadata": {},
   "source": [
    "# 111. Minimum Depth of Binary Tree\n",
    "\n",
    "https://leetcode.com/problems/minimum-depth-of-binary-tree/"
   ]
  },
  {
   "cell_type": "code",
   "execution_count": 1,
   "id": "fd8765a7",
   "metadata": {},
   "outputs": [],
   "source": [
    "from typing import Optional"
   ]
  },
  {
   "cell_type": "code",
   "execution_count": 2,
   "id": "46c24d96",
   "metadata": {},
   "outputs": [],
   "source": [
    "class TreeNode:\n",
    "    def __init__(self, val=0, left=None, right=None):\n",
    "        self.val = val\n",
    "        self.left = left\n",
    "        self.right = right"
   ]
  },
  {
   "cell_type": "code",
   "execution_count": 3,
   "id": "12f4eee8",
   "metadata": {},
   "outputs": [],
   "source": [
    "def minDepth(root: Optional[TreeNode]) -> int:\n",
    "    if not root:\n",
    "        return 0\n",
    "    \n",
    "    return min(\n",
    "        minDepth(root.left)+1, \n",
    "        minDepth(root.right)+1, \n",
    "    )"
   ]
  },
  {
   "cell_type": "markdown",
   "id": "dd21dc6b",
   "metadata": {},
   "source": [
    "# Results\n",
    "\n",
    "Runtime: 608 ms, faster than 53.39% of Python3 online submissions for Minimum Depth of Binary Tree.\n",
    "Memory Usage: 55.5 MB, less than 13.90% of Python3 online submissions for Minimum Depth of Binary Tree."
   ]
  },
  {
   "cell_type": "code",
   "execution_count": null,
   "id": "b0a041b0",
   "metadata": {},
   "outputs": [],
   "source": []
  }
 ],
 "metadata": {
  "kernelspec": {
   "display_name": "py37",
   "language": "python",
   "name": "py37"
  },
  "language_info": {
   "codemirror_mode": {
    "name": "ipython",
    "version": 3
   },
   "file_extension": ".py",
   "mimetype": "text/x-python",
   "name": "python",
   "nbconvert_exporter": "python",
   "pygments_lexer": "ipython3",
   "version": "3.8.8"
  }
 },
 "nbformat": 4,
 "nbformat_minor": 5
}

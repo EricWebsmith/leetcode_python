{
 "cells": [
  {
   "cell_type": "markdown",
   "metadata": {},
   "source": [
    "# 141. Linked List Cycle\n",
    "\n",
    "Given a linked list, determine if it has a cycle in it.\n",
    "\n",
    "To represent a cycle in the given linked list, we use an integer pos which represents the position (0-indexed) in the linked list where tail connects to. If pos is -1, then there is no cycle in the linked list."
   ]
  },
  {
   "cell_type": "code",
   "execution_count": 2,
   "metadata": {},
   "outputs": [],
   "source": [
    "class ListNode:\n",
    "    def __init__(self, x):\n",
    "        self.val = x\n",
    "        self.next = None"
   ]
  },
  {
   "cell_type": "code",
   "execution_count": 3,
   "metadata": {},
   "outputs": [],
   "source": [
    "    def hasCycle(head: ListNode) -> bool:\n",
    "        d={}\n",
    "        indexer=head\n",
    "        d[indexer]=1\n",
    "        while indexer.next:\n",
    "            indexer=indexer.next\n",
    "            if indexer in d:\n",
    "                return True\n",
    "            \n",
    "            d[indexer]=1\n",
    "        \n",
    "        return False"
   ]
  },
  {
   "cell_type": "code",
   "execution_count": 4,
   "metadata": {},
   "outputs": [],
   "source": [
    "    def hasCycle(head: ListNode) -> bool:\n",
    "        if not head:\n",
    "            return False\n",
    "        \n",
    "        fast = head\n",
    "        slow = head\n",
    "        \n",
    "        while slow:\n",
    "            if fast.next:\n",
    "                fast = fast.next.next\n",
    "            else:\n",
    "                return False\n",
    "            \n",
    "            if not fast:\n",
    "                return False\n",
    "            \n",
    "            slow = slow.next\n",
    "            \n",
    "            # circle find\n",
    "            if slow == fast:\n",
    "                return True\n",
    "        \n",
    "        return False"
   ]
  },
  {
   "cell_type": "code",
   "execution_count": null,
   "metadata": {},
   "outputs": [],
   "source": []
  }
 ],
 "metadata": {
  "kernelspec": {
   "display_name": "py37",
   "language": "python",
   "name": "py37"
  },
  "language_info": {
   "codemirror_mode": {
    "name": "ipython",
    "version": 3
   },
   "file_extension": ".py",
   "mimetype": "text/x-python",
   "name": "python",
   "nbconvert_exporter": "python",
   "pygments_lexer": "ipython3",
   "version": "3.8.8"
  }
 },
 "nbformat": 4,
 "nbformat_minor": 4
}

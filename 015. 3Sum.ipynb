{
 "cells": [
  {
   "cell_type": "code",
   "execution_count": null,
   "id": "0d93431e",
   "metadata": {},
   "outputs": [],
   "source": []
  },
  {
   "cell_type": "code",
   "execution_count": 2,
   "id": "7e642872",
   "metadata": {},
   "outputs": [],
   "source": [
    "from typing import List\n",
    "def threeSum(nums: List[int]) -> List[List[int]]:\n",
    "    pass"
   ]
  },
  {
   "cell_type": "code",
   "execution_count": 52,
   "id": "44b9f35e",
   "metadata": {},
   "outputs": [
    {
     "data": {
      "text/plain": [
       "[{'input': {'nums': [-1, 0, 1, 2, -1, -4]},\n",
       "  'output': [[-1, -1, 2], [-1, 0, 1]]},\n",
       " {'input': {'nums': []}, 'output': []},\n",
       " {'input': {'nums': [0]}, 'output': []},\n",
       " {'input': {'nums': [0, 0, 0, 0]}, 'output': [[0, 0, 0]]}]"
      ]
     },
     "execution_count": 52,
     "metadata": {},
     "output_type": "execute_result"
    }
   ],
   "source": [
    "tests = [\n",
    "    {\n",
    "        'input':{\n",
    "            'nums':[-1,0,1,2,-1,-4]\n",
    "        },\n",
    "        'output':[[-1,-1,2],[-1,0,1]]\n",
    "    },\n",
    "    {\n",
    "        'input':{\n",
    "            'nums':[]\n",
    "        },\n",
    "        'output':[]\n",
    "    },\n",
    "    {\n",
    "        'input':{\n",
    "            'nums':[0]\n",
    "        },\n",
    "        'output':[]\n",
    "    },\n",
    "    {\n",
    "        'input':{\n",
    "            'nums':[0,0,0,0]\n",
    "        },\n",
    "        'output':[[0,0,0]]\n",
    "    }\n",
    "]\n",
    "tests"
   ]
  },
  {
   "cell_type": "code",
   "execution_count": 53,
   "id": "0244bcf1",
   "metadata": {},
   "outputs": [],
   "source": [
    "def test_all(func):\n",
    "    for test in tests:\n",
    "        actual = func(**test['input'])\n",
    "        status = 'pass' if actual == test['output'] else 'fail'\n",
    "        print(f\"{status}, expected: {test['output']}, actual: {actual}\")"
   ]
  },
  {
   "cell_type": "code",
   "execution_count": 54,
   "id": "ecaeb047",
   "metadata": {},
   "outputs": [
    {
     "name": "stdout",
     "output_type": "stream",
     "text": [
      "fail, expected: [[-1, -1, 2], [-1, 0, 1]], actual: None\n",
      "fail, expected: [], actual: None\n",
      "fail, expected: [], actual: None\n",
      "fail, expected: [[0, 0, 0]], actual: None\n"
     ]
    }
   ],
   "source": [
    "test_all(threeSum)"
   ]
  },
  {
   "cell_type": "markdown",
   "id": "a74cec3a",
   "metadata": {},
   "source": [
    "# Solution with dict"
   ]
  },
  {
   "cell_type": "code",
   "execution_count": 55,
   "id": "0894fbbd",
   "metadata": {},
   "outputs": [],
   "source": [
    "def three_sum(nums: List[int]) -> List[List[int]]:\n",
    "    nums.sort()\n",
    "    n = len(nums)\n",
    "    number_index = {}\n",
    "    for i in range(n):\n",
    "        number_index[nums[i]] = i\n",
    "        \n",
    "    results = []\n",
    "        \n",
    "    \n",
    "    for i in range(n):\n",
    "        for j in range(i+1, n):\n",
    "            if -nums[i]-nums[j] in number_index:\n",
    "                k = number_index[-nums[i]-nums[j]]\n",
    "                if k>j:\n",
    "                    result = (nums[i], nums[j], nums[k])\n",
    "                    # results.sort()\n",
    "                    # result = set(result)\n",
    "                    results.append(result)\n",
    "    #return results\n",
    "    #results.sort()\n",
    "    return [list(l) for l in set(results)]"
   ]
  },
  {
   "cell_type": "code",
   "execution_count": 56,
   "id": "f9faf406",
   "metadata": {},
   "outputs": [],
   "source": [
    "results = three_sum([-1,0,1,2,-1,-4])"
   ]
  },
  {
   "cell_type": "code",
   "execution_count": 57,
   "id": "30b2d65a",
   "metadata": {},
   "outputs": [
    {
     "data": {
      "text/plain": [
       "[[-1, 0, 1], [-1, -1, 2]]"
      ]
     },
     "execution_count": 57,
     "metadata": {},
     "output_type": "execute_result"
    }
   ],
   "source": [
    "results"
   ]
  },
  {
   "cell_type": "code",
   "execution_count": 58,
   "id": "d38c2450",
   "metadata": {},
   "outputs": [
    {
     "name": "stdout",
     "output_type": "stream",
     "text": [
      "fail, expected: [[-1, -1, 2], [-1, 0, 1]], actual: [[-1, 0, 1], [-1, -1, 2]]\n",
      "pass, expected: [], actual: []\n",
      "pass, expected: [], actual: []\n",
      "pass, expected: [[0, 0, 0]], actual: [[0, 0, 0]]\n"
     ]
    }
   ],
   "source": [
    "test_all(three_sum)"
   ]
  },
  {
   "cell_type": "code",
   "execution_count": 51,
   "id": "7d0dd92d",
   "metadata": {},
   "outputs": [
    {
     "name": "stdout",
     "output_type": "stream",
     "text": [
      "6.62 µs ± 426 ns per loop (mean ± std. dev. of 7 runs, 100000 loops each)\n"
     ]
    }
   ],
   "source": [
    "%timeit three_sum([-1,0,1,2,-1,-4])"
   ]
  },
  {
   "cell_type": "code",
   "execution_count": null,
   "id": "e63a02fc",
   "metadata": {},
   "outputs": [],
   "source": []
  },
  {
   "cell_type": "markdown",
   "id": "207c5a56",
   "metadata": {},
   "source": [
    "# Solution with two pointers"
   ]
  },
  {
   "cell_type": "code",
   "execution_count": 75,
   "id": "239cfbba",
   "metadata": {},
   "outputs": [],
   "source": [
    "def three_sum_two_pointers(nums: List[int]) -> List[List[int]]:\n",
    "    nums.sort()\n",
    "    n = len(nums)\n",
    "    results = []\n",
    "    \n",
    "    for i in range(n):\n",
    "        l = i + 1\n",
    "        r = n - 1\n",
    "        \n",
    "        if i>0 and nums[i] == nums[i-1]:\n",
    "            continue\n",
    "            \n",
    "        while l < r:\n",
    "            if nums[l] + nums[r] > -nums[i]:\n",
    "                r -= 1\n",
    "            elif nums[l] + nums[r] < -nums[i]:\n",
    "                l += 1\n",
    "            elif nums[l] + nums[r] == -nums[i]:\n",
    "                result = (nums[i], nums[l], nums[r])\n",
    "                results.append(result)\n",
    "                r -= 1\n",
    "    return [list(l) for l in set(results)]"
   ]
  },
  {
   "cell_type": "code",
   "execution_count": 71,
   "id": "1cab672d",
   "metadata": {},
   "outputs": [
    {
     "data": {
      "text/plain": [
       "[-4, -1, -1, 0, 1, 2]"
      ]
     },
     "execution_count": 71,
     "metadata": {},
     "output_type": "execute_result"
    }
   ],
   "source": [
    "a = [-1,0,1,2,-1,-4]\n",
    "a.sort()\n",
    "a"
   ]
  },
  {
   "cell_type": "code",
   "execution_count": 72,
   "id": "b2bc6c1d",
   "metadata": {},
   "outputs": [
    {
     "data": {
      "text/plain": [
       "[[-1, 0, 1], [-1, -1, 2]]"
      ]
     },
     "execution_count": 72,
     "metadata": {},
     "output_type": "execute_result"
    }
   ],
   "source": [
    "three_sum_two_pointers([-4, -1, -1, 0, 1, 2])"
   ]
  },
  {
   "cell_type": "code",
   "execution_count": 73,
   "id": "283e3be9",
   "metadata": {},
   "outputs": [
    {
     "name": "stdout",
     "output_type": "stream",
     "text": [
      "fail, expected: [[-1, -1, 2], [-1, 0, 1]], actual: [[-1, 0, 1], [-1, -1, 2]]\n",
      "pass, expected: [], actual: []\n",
      "pass, expected: [], actual: []\n",
      "pass, expected: [[0, 0, 0]], actual: [[0, 0, 0]]\n"
     ]
    }
   ],
   "source": [
    "test_all(three_sum_two_pointers)"
   ]
  },
  {
   "cell_type": "code",
   "execution_count": 76,
   "id": "fdfc2a38",
   "metadata": {},
   "outputs": [
    {
     "name": "stdout",
     "output_type": "stream",
     "text": [
      "4.98 µs ± 217 ns per loop (mean ± std. dev. of 7 runs, 100000 loops each)\n"
     ]
    }
   ],
   "source": [
    "%timeit three_sum_two_pointers([-4, -1, -1, 0, 1, 2])"
   ]
  },
  {
   "cell_type": "code",
   "execution_count": 68,
   "id": "6a71bceb",
   "metadata": {},
   "outputs": [],
   "source": [
    "r = three_sum_two_pointers([0,0,0,0])"
   ]
  },
  {
   "cell_type": "code",
   "execution_count": 69,
   "id": "b27a8091",
   "metadata": {},
   "outputs": [
    {
     "data": {
      "text/plain": [
       "[[0, 0, 0]]"
      ]
     },
     "execution_count": 69,
     "metadata": {},
     "output_type": "execute_result"
    }
   ],
   "source": [
    "r"
   ]
  },
  {
   "cell_type": "code",
   "execution_count": 66,
   "id": "40173581",
   "metadata": {},
   "outputs": [
    {
     "ename": "TypeError",
     "evalue": "unhashable type: 'list'",
     "output_type": "error",
     "traceback": [
      "\u001b[1;31m---------------------------------------------------------------------------\u001b[0m",
      "\u001b[1;31mTypeError\u001b[0m                                 Traceback (most recent call last)",
      "\u001b[1;32m<ipython-input-66-654138a630df>\u001b[0m in \u001b[0;36m<module>\u001b[1;34m\u001b[0m\n\u001b[1;32m----> 1\u001b[1;33m \u001b[0mset\u001b[0m\u001b[1;33m(\u001b[0m\u001b[0mr\u001b[0m\u001b[1;33m)\u001b[0m\u001b[1;33m\u001b[0m\u001b[1;33m\u001b[0m\u001b[0m\n\u001b[0m",
      "\u001b[1;31mTypeError\u001b[0m: unhashable type: 'list'"
     ]
    }
   ],
   "source": [
    "set(r)"
   ]
  },
  {
   "cell_type": "code",
   "execution_count": null,
   "id": "d3f35687",
   "metadata": {},
   "outputs": [],
   "source": []
  }
 ],
 "metadata": {
  "kernelspec": {
   "display_name": "py37",
   "language": "python",
   "name": "py37"
  },
  "language_info": {
   "codemirror_mode": {
    "name": "ipython",
    "version": 3
   },
   "file_extension": ".py",
   "mimetype": "text/x-python",
   "name": "python",
   "nbconvert_exporter": "python",
   "pygments_lexer": "ipython3",
   "version": "3.8.8"
  }
 },
 "nbformat": 4,
 "nbformat_minor": 5
}

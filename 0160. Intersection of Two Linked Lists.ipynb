{
 "cells": [
  {
   "cell_type": "markdown",
   "metadata": {},
   "source": [
    "# 160. Intersection of Two Linked Lists\n",
    "\n",
    "Write a program to find the node at which the intersection of two singly linked lists begins.\n",
    "\n",
    "For example, the following two linked lists:"
   ]
  },
  {
   "cell_type": "code",
   "execution_count": 45,
   "metadata": {},
   "outputs": [],
   "source": [
    "class ListNode:\n",
    "    def __init__(self, x):\n",
    "        self.val = x\n",
    "        self.next = None"
   ]
  },
  {
   "cell_type": "code",
   "execution_count": 47,
   "metadata": {},
   "outputs": [],
   "source": [
    "intersect_node=ListNode(8)\n",
    "intersect_node.next=ListNode(4)\n",
    "intersect_node.next.next=ListNode(5)\n",
    "\n",
    "a=ListNode(4)\n",
    "a.next=ListNode(1)\n",
    "a.next.next=intersect_node\n",
    "\n",
    "b=ListNode(5)\n",
    "b.next=ListNode(0)\n",
    "b.next.next=ListNode(0)\n",
    "b.next.next.next=intersect_node\n",
    "\n",
    "c=ListNode(1)"
   ]
  },
  {
   "cell_type": "code",
   "execution_count": 15,
   "metadata": {},
   "outputs": [],
   "source": [
    "#Approach 2: Hash Table\n",
    "\n",
    "    def getIntersectionNode(headA: ListNode, headB: ListNode) -> ListNode:\n",
    "        listA=[]\n",
    "        listB=[]\n",
    "        indexerA=headA\n",
    "        indexerB=headB\n",
    "        while indexerA:\n",
    "            if indexerA:\n",
    "                listA.append(indexerA)\n",
    "                indexerA=indexerA.next\n",
    "                \n",
    "        while indexerB:        \n",
    "            if indexerB:\n",
    "                if indexerB in listA:\n",
    "                    return indexerB\n",
    "                indexerB=indexerB.next\n",
    "        return None"
   ]
  },
  {
   "cell_type": "code",
   "execution_count": 16,
   "metadata": {},
   "outputs": [
    {
     "data": {
      "text/plain": [
       "8"
      ]
     },
     "execution_count": 16,
     "metadata": {},
     "output_type": "execute_result"
    }
   ],
   "source": [
    "getIntersectionNode(a,b).val"
   ]
  },
  {
   "cell_type": "code",
   "execution_count": 95,
   "metadata": {},
   "outputs": [],
   "source": [
    "    #Approach 3: Two Pointers\n",
    "    def getIntersectionNode(headA: ListNode, headB: ListNode) -> ListNode:\n",
    "        \n",
    "        if headA == None or headB == None:\n",
    "            return None\n",
    "        indexerA=headA\n",
    "        indexerB=headB\n",
    "        \n",
    "        while indexerA != indexerB:\n",
    "            indexerA=headB if indexerA==None else indexerA.next\n",
    "            indexerB=headA if indexerB==None else indexerB.next\n",
    "            \n",
    "        return indexerA\n",
    "        "
   ]
  },
  {
   "cell_type": "code",
   "execution_count": 99,
   "metadata": {},
   "outputs": [],
   "source": [
    "assert(getIntersectionNode(a,b).val==8)\n",
    "assert(getIntersectionNode(b,c) is None)"
   ]
  },
  {
   "cell_type": "code",
   "execution_count": 100,
   "metadata": {},
   "outputs": [],
   "source": [
    "getIntersectionNode(c,b)"
   ]
  },
  {
   "cell_type": "code",
   "execution_count": null,
   "metadata": {},
   "outputs": [],
   "source": []
  }
 ],
 "metadata": {
  "kernelspec": {
   "display_name": "Python 3",
   "language": "python",
   "name": "python3"
  },
  "language_info": {
   "codemirror_mode": {
    "name": "ipython",
    "version": 3
   },
   "file_extension": ".py",
   "mimetype": "text/x-python",
   "name": "python",
   "nbconvert_exporter": "python",
   "pygments_lexer": "ipython3",
   "version": "3.7.4"
  }
 },
 "nbformat": 4,
 "nbformat_minor": 4
}

{
 "cells": [
  {
   "cell_type": "markdown",
   "metadata": {},
   "source": [
    "# 169. Majority Element\n",
    "\n",
    "Given an array of size n, find the majority element. The majority element is the element that appears more than ⌊ n/2 ⌋ times.\n",
    "\n",
    "You may assume that the array is non-empty and the majority element always exist in the array."
   ]
  },
  {
   "cell_type": "markdown",
   "metadata": {},
   "source": []
  },
  {
   "cell_type": "code",
   "execution_count": 14,
   "metadata": {},
   "outputs": [],
   "source": [
    "from typing import List\n",
    "import collections"
   ]
  },
  {
   "cell_type": "code",
   "execution_count": null,
   "metadata": {},
   "outputs": [],
   "source": []
  },
  {
   "cell_type": "code",
   "execution_count": 16,
   "metadata": {},
   "outputs": [],
   "source": [
    "    def majorityElement(nums: List[int]) -> int:\n",
    "        counts=collections.Counter(nums)\n",
    "        return max(counts.keys(), key=counts.get)"
   ]
  },
  {
   "cell_type": "code",
   "execution_count": 17,
   "metadata": {},
   "outputs": [
    {
     "name": "stdout",
     "output_type": "stream",
     "text": [
      "2,majorityElement([2,2,1,1,1,2,2])=2\n",
      "3,majorityElement([3,2,3])=3\n"
     ]
    }
   ],
   "source": [
    "print(f'2,majorityElement([2,2,1,1,1,2,2])={majorityElement([2,2,1,1,1,2,2])}')\n",
    "print(f'3,majorityElement([3,2,3])={majorityElement([3,2,3])}')"
   ]
  },
  {
   "cell_type": "code",
   "execution_count": 18,
   "metadata": {},
   "outputs": [],
   "source": [
    "    def majorityElement(nums: List[int]) -> int:\n",
    "        n=len(nums)\n",
    "        if n==1:\n",
    "            return nums[0]\n",
    "        d={}\n",
    "        for i in nums:\n",
    "            if i in d:\n",
    "                d[i]+=1\n",
    "                if d[i]>n//2:\n",
    "                    return i\n",
    "            else:\n",
    "                d[i]=1\n",
    "            \n",
    "        return -1"
   ]
  },
  {
   "cell_type": "code",
   "execution_count": 19,
   "metadata": {},
   "outputs": [],
   "source": [
    "#Approach 6: Boyer-Moore Voting Algorithm"
   ]
  },
  {
   "cell_type": "code",
   "execution_count": 28,
   "metadata": {},
   "outputs": [],
   "source": [
    "    def majorityElement(nums: List[int]) -> int:\n",
    "        count=0\n",
    "        condidate=None\n",
    "        for i in nums:\n",
    "            print(count, condidate)\n",
    "            if count==0:\n",
    "                count=1\n",
    "                condidate=i\n",
    "            else:\n",
    "                count+=(1 if condidate==i else -1)\n",
    "                \n",
    "        print(count, condidate)\n",
    "        return condidate"
   ]
  },
  {
   "cell_type": "code",
   "execution_count": 29,
   "metadata": {},
   "outputs": [
    {
     "name": "stdout",
     "output_type": "stream",
     "text": [
      "0 None\n",
      "1 2\n",
      "2 2\n",
      "1 2\n",
      "0 2\n",
      "1 1\n",
      "0 1\n",
      "1 2\n",
      "2,majorityElement([2,2,1,1,1,2,2])=2\n",
      "0 None\n",
      "1 3\n",
      "0 3\n",
      "1 3\n",
      "3,majorityElement([3,2,3])=3\n",
      "0 None\n",
      "1 3\n",
      "2 3\n",
      "1 3\n",
      "3,majorityElement([3,3,4])=3\n"
     ]
    }
   ],
   "source": [
    "print(f'2,majorityElement([2,2,1,1,1,2,2])={majorityElement([2,2,1,1,1,2,2])}')\n",
    "print(f'3,majorityElement([3,2,3])={majorityElement([3,2,3])}')\n",
    "print(f'3,majorityElement([3,3,4])={majorityElement([3,3,4])}')"
   ]
  },
  {
   "cell_type": "code",
   "execution_count": null,
   "metadata": {},
   "outputs": [],
   "source": []
  }
 ],
 "metadata": {
  "kernelspec": {
   "display_name": "Python 3",
   "language": "python",
   "name": "python3"
  },
  "language_info": {
   "codemirror_mode": {
    "name": "ipython",
    "version": 3
   },
   "file_extension": ".py",
   "mimetype": "text/x-python",
   "name": "python",
   "nbconvert_exporter": "python",
   "pygments_lexer": "ipython3",
   "version": "3.7.4"
  }
 },
 "nbformat": 4,
 "nbformat_minor": 4
}

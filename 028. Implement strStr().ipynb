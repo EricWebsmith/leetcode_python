{
 "cells": [
  {
   "cell_type": "markdown",
   "metadata": {},
   "source": [
    "# 28. Implement strStr()\n",
    "\n",
    "Implement strStr().\n",
    "\n",
    "Return the index of the first occurrence of needle in haystack, or -1 if needle is not part of haystack."
   ]
  },
  {
   "cell_type": "code",
   "execution_count": 16,
   "metadata": {},
   "outputs": [],
   "source": [
    "    def strStr(haystack: str, needle: str) -> int:\n",
    "        if len(needle)==0:\n",
    "            return 0\n",
    "        for i in range(len(haystack)-len(needle)+1):\n",
    "            print(i)\n",
    "            if haystack[i]==needle[0]:\n",
    "                found=True\n",
    "                for j in range(1,len(needle)):\n",
    "                    if haystack[i+j]!=needle[j]:\n",
    "                        found=False\n",
    "                        break\n",
    "                if found:\n",
    "                    return i\n",
    "        return -1"
   ]
  },
  {
   "cell_type": "code",
   "execution_count": 17,
   "metadata": {},
   "outputs": [
    {
     "name": "stdout",
     "output_type": "stream",
     "text": [
      "0\n",
      "1\n",
      "2\n",
      "0\n",
      "1\n",
      "2\n",
      "0\n"
     ]
    }
   ],
   "source": [
    "assert(strStr('hello','ll')==2)\n",
    "assert(strStr('aaaaa','aab')==-1)\n",
    "assert(strStr('aaaaa','')==0)\n",
    "assert(strStr('a','a')==0)"
   ]
  },
  {
   "cell_type": "code",
   "execution_count": 18,
   "metadata": {},
   "outputs": [
    {
     "name": "stdout",
     "output_type": "stream",
     "text": [
      "0\n"
     ]
    },
    {
     "data": {
      "text/plain": [
       "0"
      ]
     },
     "execution_count": 18,
     "metadata": {},
     "output_type": "execute_result"
    }
   ],
   "source": [
    "strStr('a','a')"
   ]
  },
  {
   "cell_type": "code",
   "execution_count": 20,
   "metadata": {},
   "outputs": [
    {
     "name": "stdout",
     "output_type": "stream",
     "text": [
      "0\n",
      "1\n",
      "2\n"
     ]
    },
    {
     "data": {
      "text/plain": [
       "2"
      ]
     },
     "execution_count": 20,
     "metadata": {},
     "output_type": "execute_result"
    }
   ],
   "source": [
    "strStr('hell','ll')"
   ]
  },
  {
   "cell_type": "code",
   "execution_count": 220,
   "metadata": {},
   "outputs": [],
   "source": [
    "    #KMP\n",
    "    def strStr(haystack: str, needle: str) -> int:\n",
    "        if len(needle)==0:\n",
    "            return 0\n",
    "        if len(haystack)<len(needle):\n",
    "            return -1\n",
    "        def findnext(s):\n",
    "            a=[-1]\n",
    "            if len(s)==1:\n",
    "                return a\n",
    "            a.append(0)\n",
    "            for i in range(2,len(s)):\n",
    "                k=a[i-1]\n",
    "                while(k>-1):\n",
    "                    if s[k]==s[i-1]:\n",
    "                        a.append(k+1)\n",
    "                        break\n",
    "                    else:\n",
    "                        k=a[k]\n",
    "                if k==-1:\n",
    "                    a.append(0)\n",
    "            return a\n",
    "        pattern=findnext(needle)\n",
    "        \n",
    "        i=0\n",
    "        j=0\n",
    "        n=len(haystack)\n",
    "        m=len(needle)\n",
    "        while i<n and j<m:\n",
    "            if j==-1 or haystack[i]==needle[j]:\n",
    "                i+=1\n",
    "                j+=1\n",
    "            elif j!=-1 and haystack[i]!=needle[j]:\n",
    "                j=pattern[j]\n",
    "        if j==m:\n",
    "            return i-j\n",
    "        else:\n",
    "            return -1\n"
   ]
  },
  {
   "cell_type": "code",
   "execution_count": 221,
   "metadata": {},
   "outputs": [
    {
     "data": {
      "text/plain": [
       "6"
      ]
     },
     "execution_count": 221,
     "metadata": {},
     "output_type": "execute_result"
    }
   ],
   "source": [
    "strStr('abxabcabcaby','abcaby')"
   ]
  },
  {
   "cell_type": "code",
   "execution_count": 222,
   "metadata": {},
   "outputs": [
    {
     "data": {
      "text/plain": [
       "-1"
      ]
     },
     "execution_count": 222,
     "metadata": {},
     "output_type": "execute_result"
    }
   ],
   "source": [
    "strStr('abadsf','aabaabaaa')"
   ]
  },
  {
   "cell_type": "code",
   "execution_count": null,
   "metadata": {},
   "outputs": [],
   "source": []
  },
  {
   "cell_type": "code",
   "execution_count": 223,
   "metadata": {},
   "outputs": [
    {
     "data": {
      "text/plain": [
       "2"
      ]
     },
     "execution_count": 223,
     "metadata": {},
     "output_type": "execute_result"
    }
   ],
   "source": [
    "strStr('hello','ll')"
   ]
  },
  {
   "cell_type": "code",
   "execution_count": 224,
   "metadata": {},
   "outputs": [
    {
     "data": {
      "text/plain": [
       "9"
      ]
     },
     "execution_count": 224,
     "metadata": {},
     "output_type": "execute_result"
    }
   ],
   "source": [
    "strStr('mississippi','pi')"
   ]
  },
  {
   "cell_type": "code",
   "execution_count": null,
   "metadata": {},
   "outputs": [],
   "source": []
  }
 ],
 "metadata": {
  "kernelspec": {
   "display_name": "Python 3",
   "language": "python",
   "name": "python3"
  },
  "language_info": {
   "codemirror_mode": {
    "name": "ipython",
    "version": 3
   },
   "file_extension": ".py",
   "mimetype": "text/x-python",
   "name": "python",
   "nbconvert_exporter": "python",
   "pygments_lexer": "ipython3",
   "version": "3.7.4"
  }
 },
 "nbformat": 4,
 "nbformat_minor": 4
}

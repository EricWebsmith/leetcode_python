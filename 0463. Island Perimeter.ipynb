{
 "cells": [
  {
   "cell_type": "markdown",
   "id": "a9385c6d",
   "metadata": {},
   "source": [
    "# 463. Island Perimeter\n",
    "\n",
    "https://leetcode.com/problems/island-perimeter/"
   ]
  },
  {
   "cell_type": "code",
   "execution_count": 1,
   "id": "e357d09e",
   "metadata": {},
   "outputs": [],
   "source": [
    "from typing import List"
   ]
  },
  {
   "cell_type": "code",
   "execution_count": 68,
   "id": "55be82fe",
   "metadata": {},
   "outputs": [],
   "source": [
    "class Solution:\n",
    "    def islandPerimeter(self, grid: List[List[int]]) -> int:\n",
    "        perimeter = 0\n",
    "        \n",
    "        for i in range(len(grid)):\n",
    "            for j in range(len(grid[0])):\n",
    "                if grid[i][j]: # i.e. grid[i][j] == 1\n",
    "                    perimeter += i==0 or grid[i-1][j] == 0\n",
    "                    perimeter += i==len(grid)-1 or grid[i+1][j] == 0\n",
    "                    perimeter += j==0 or grid[i][j-1] == 0\n",
    "                    perimeter += j==len(grid[0])-1 or grid[i][j+1] == 0\n",
    "                    \n",
    "        return perimeter"
   ]
  },
  {
   "cell_type": "code",
   "execution_count": 69,
   "id": "7d23c872",
   "metadata": {},
   "outputs": [
    {
     "data": {
      "text/plain": [
       "16"
      ]
     },
     "execution_count": 69,
     "metadata": {},
     "output_type": "execute_result"
    }
   ],
   "source": [
    "grid = [[0,1,0,0],[1,1,1,0],[0,1,0,0],[1,1,0,0]]\n",
    "s = Solution()\n",
    "s.islandPerimeter(grid)"
   ]
  },
  {
   "cell_type": "code",
   "execution_count": 70,
   "id": "6bd078af",
   "metadata": {},
   "outputs": [
    {
     "data": {
      "text/plain": [
       "6"
      ]
     },
     "execution_count": 70,
     "metadata": {},
     "output_type": "execute_result"
    }
   ],
   "source": [
    "grid = [[1,1]]\n",
    "s = Solution()\n",
    "s.islandPerimeter(grid)"
   ]
  },
  {
   "cell_type": "code",
   "execution_count": 71,
   "id": "aaca09b8",
   "metadata": {},
   "outputs": [
    {
     "data": {
      "text/plain": [
       "8"
      ]
     },
     "execution_count": 71,
     "metadata": {},
     "output_type": "execute_result"
    }
   ],
   "source": [
    "grid = [[1,1],[1,1]]\n",
    "s = Solution()\n",
    "s.islandPerimeter(grid)"
   ]
  },
  {
   "cell_type": "code",
   "execution_count": null,
   "id": "4ca695a4",
   "metadata": {},
   "outputs": [],
   "source": []
  },
  {
   "cell_type": "code",
   "execution_count": null,
   "id": "b5674822",
   "metadata": {},
   "outputs": [],
   "source": []
  },
  {
   "cell_type": "code",
   "execution_count": null,
   "id": "13d06892",
   "metadata": {},
   "outputs": [],
   "source": []
  }
 ],
 "metadata": {
  "kernelspec": {
   "display_name": "py37",
   "language": "python",
   "name": "py37"
  },
  "language_info": {
   "codemirror_mode": {
    "name": "ipython",
    "version": 3
   },
   "file_extension": ".py",
   "mimetype": "text/x-python",
   "name": "python",
   "nbconvert_exporter": "python",
   "pygments_lexer": "ipython3",
   "version": "3.8.8"
  }
 },
 "nbformat": 4,
 "nbformat_minor": 5
}

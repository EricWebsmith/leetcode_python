{
 "cells": [
  {
   "cell_type": "markdown",
   "id": "4f9f8faf",
   "metadata": {},
   "source": [
    "https://leetcode.com/problems/continuous-subarray-sum/"
   ]
  },
  {
   "cell_type": "code",
   "execution_count": 6,
   "id": "0031a9c2",
   "metadata": {},
   "outputs": [],
   "source": [
    "from typing import List\n",
    "def checkSubarraySum(nums: List[int], k: int) -> bool:\n",
    "    pass"
   ]
  },
  {
   "cell_type": "code",
   "execution_count": 35,
   "id": "8764498f",
   "metadata": {},
   "outputs": [],
   "source": [
    "tests = [\n",
    "    {\n",
    "        \"input\":\n",
    "        {\n",
    "            \"nums\":[1,1,1],\n",
    "            \"k\":2\n",
    "        },\n",
    "        \"output\": 2\n",
    "    },\n",
    "    {\n",
    "        \"input\":\n",
    "        {\n",
    "            \"nums\":[1,2,3],\n",
    "            \"k\":3\n",
    "        },\n",
    "        \"output\": 2\n",
    "    },\n",
    "    {\n",
    "        \"input\":\n",
    "        {\n",
    "            \"nums\":[1],\n",
    "            \"k\":0\n",
    "        },\n",
    "        \"output\": 0\n",
    "    },\n",
    "    {\n",
    "        \"input\":\n",
    "        {\n",
    "            \"nums\":[-1,-1,1],\n",
    "            \"k\":0\n",
    "        },\n",
    "        \"output\": 1\n",
    "    },    \n",
    "]"
   ]
  },
  {
   "cell_type": "code",
   "execution_count": 15,
   "id": "e2260360",
   "metadata": {},
   "outputs": [],
   "source": [
    "def test_all(tests, func):\n",
    "    for test in tests:\n",
    "        actual = func(**test['input'])\n",
    "        status = 'pass' if actual == test['output'] else 'fail'\n",
    "        print(f\"{status}, expected: {test['output']}, actual: {actual}\")"
   ]
  },
  {
   "cell_type": "code",
   "execution_count": 16,
   "id": "4be9ff3d",
   "metadata": {},
   "outputs": [
    {
     "name": "stdout",
     "output_type": "stream",
     "text": [
      "fail, expected: 2, actual: None\n",
      "fail, expected: 2, actual: None\n"
     ]
    }
   ],
   "source": [
    "test_all(tests, checkSubarraySum)"
   ]
  },
  {
   "cell_type": "markdown",
   "id": "7b7f4905",
   "metadata": {},
   "source": [
    "# Solution if all positive"
   ]
  },
  {
   "cell_type": "code",
   "execution_count": 43,
   "id": "3d25b3c8",
   "metadata": {},
   "outputs": [],
   "source": [
    "def check_subarray_sum(nums, k):\n",
    "    start_at = 0\n",
    "    end_at = 0\n",
    "    sum_value = nums[0]\n",
    "    found = 0\n",
    "    while start_at <= end_at and end_at < len(nums):\n",
    "        \n",
    "        if sum_value == k:\n",
    "            found += 1\n",
    "            sum_value -= nums[start_at]\n",
    "            start_at += 1\n",
    "        if sum_value < k:\n",
    "            end_at += 1\n",
    "            if end_at == len(nums):\n",
    "                break\n",
    "            sum_value += nums[end_at]\n",
    "        if sum_value > k:\n",
    "            sum_value -= nums[start_at]\n",
    "            start_at += 1\n",
    "        # print(start_at, end_at, sum_value)\n",
    "    return found\n",
    "        "
   ]
  },
  {
   "cell_type": "code",
   "execution_count": 44,
   "id": "4e417ec0",
   "metadata": {},
   "outputs": [
    {
     "name": "stdout",
     "output_type": "stream",
     "text": [
      "pass, expected: 2, actual: 2\n",
      "pass, expected: 2, actual: 2\n",
      "pass, expected: 0, actual: 0\n"
     ]
    }
   ],
   "source": [
    "test_all(tests, check_subarray_sum)"
   ]
  },
  {
   "cell_type": "markdown",
   "id": "d19d6c07",
   "metadata": {},
   "source": [
    "# Solution"
   ]
  },
  {
   "cell_type": "code",
   "execution_count": 46,
   "id": "5b5c6b0c",
   "metadata": {},
   "outputs": [],
   "source": [
    "def check_subarray_sum(nums, k):\n",
    "    accumulation = [0] * len(nums)\n",
    "    for i in range(len(nums)):\n",
    "        accumulation[i] = nums[i]\n",
    "    for i in range(1, len(nums)):\n",
    "        accumulation[i] = accumulation[i] + accumulation[i-1]\n",
    "        \n",
    "    found = 0\n",
    "    for i in range(len(nums)):\n",
    "        for j in range(len(nums)):\n",
    "            sum_i_j = accumulation[j] - accumulation[i]\n",
    "            if sum_i_j == k:\n",
    "                found += 1\n",
    "    \n",
    "    return found"
   ]
  },
  {
   "cell_type": "code",
   "execution_count": null,
   "id": "0e81ee22",
   "metadata": {},
   "outputs": [],
   "source": []
  }
 ],
 "metadata": {
  "kernelspec": {
   "display_name": "py37",
   "language": "python",
   "name": "py37"
  },
  "language_info": {
   "codemirror_mode": {
    "name": "ipython",
    "version": 3
   },
   "file_extension": ".py",
   "mimetype": "text/x-python",
   "name": "python",
   "nbconvert_exporter": "python",
   "pygments_lexer": "ipython3",
   "version": "3.8.8"
  }
 },
 "nbformat": 4,
 "nbformat_minor": 5
}

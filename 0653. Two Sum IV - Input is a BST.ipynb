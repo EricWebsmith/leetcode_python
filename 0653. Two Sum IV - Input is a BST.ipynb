{
 "cells": [
  {
   "cell_type": "markdown",
   "id": "d4260d5d",
   "metadata": {},
   "source": [
    "# 653. Two Sum IV - Input is a BST\n",
    "\n",
    "https://leetcode.com/problems/two-sum-iv-input-is-a-bst/"
   ]
  },
  {
   "cell_type": "code",
   "execution_count": 11,
   "id": "3da8d94b",
   "metadata": {},
   "outputs": [],
   "source": [
    "from typing import Optional"
   ]
  },
  {
   "cell_type": "code",
   "execution_count": 45,
   "id": "2320499e",
   "metadata": {},
   "outputs": [],
   "source": [
    "class TreeNode:\n",
    "    def __init__(self, val=0, left=None, right=None):\n",
    "        self.val = val\n",
    "        self.left = left\n",
    "        self.right = right\n",
    "        \n",
    "    def __repr__(self):\n",
    "        return f\"{self.val}\""
   ]
  },
  {
   "cell_type": "code",
   "execution_count": 52,
   "id": "0b7f6659",
   "metadata": {},
   "outputs": [],
   "source": []
  }
 ],
 "metadata": {
  "kernelspec": {
   "display_name": "py37",
   "language": "python",
   "name": "py37"
  },
  "language_info": {
   "codemirror_mode": {
    "name": "ipython",
    "version": 3
   },
   "file_extension": ".py",
   "mimetype": "text/x-python",
   "name": "python",
   "nbconvert_exporter": "python",
   "pygments_lexer": "ipython3",
   "version": "3.8.8"
  }
 },
 "nbformat": 4,
 "nbformat_minor": 5
}

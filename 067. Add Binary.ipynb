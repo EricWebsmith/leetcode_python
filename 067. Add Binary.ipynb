{
 "cells": [
  {
   "cell_type": "markdown",
   "id": "9fd0cc83",
   "metadata": {},
   "source": [
    "# 67. Add Binary\n",
    "\n",
    "https://leetcode.com/problems/add-binary/"
   ]
  },
  {
   "cell_type": "code",
   "execution_count": 1,
   "id": "d8caf561",
   "metadata": {},
   "outputs": [],
   "source": [
    "def addBinary(a: str, b: str) -> str:\n",
    "    pass"
   ]
  },
  {
   "cell_type": "code",
   "execution_count": 22,
   "id": "755e8011",
   "metadata": {},
   "outputs": [
    {
     "data": {
      "text/plain": [
       "[{'input': {'a': '11', 'b': '1'}, 'output': '100'},\n",
       " {'input': {'a': '1010', 'b': '1011'}, 'output': '10101'},\n",
       " {'input': {'a': '1111', 'b': '1111'}, 'output': '11110'}]"
      ]
     },
     "execution_count": 22,
     "metadata": {},
     "output_type": "execute_result"
    }
   ],
   "source": [
    "tests = [\n",
    "    {\n",
    "        'input':{\n",
    "            'a': '11',\n",
    "            'b': '1'\n",
    "        },\n",
    "        'output': '100'\n",
    "    },\n",
    "    {\n",
    "        'input':{\n",
    "            'a':'1010',\n",
    "            'b':'1011'\n",
    "        },\n",
    "        'output': '10101'\n",
    "    },\n",
    "    {\n",
    "        'input':{\n",
    "            'a':'1111',\n",
    "            'b':'1111'\n",
    "        },\n",
    "        'output': '11110'\n",
    "    }\n",
    "]\n",
    "tests"
   ]
  },
  {
   "cell_type": "code",
   "execution_count": 23,
   "id": "50aac97e",
   "metadata": {},
   "outputs": [],
   "source": [
    "def test_all(func):\n",
    "    for test in tests:\n",
    "        actual = func(**test['input'])\n",
    "        status = 'pass' if actual == test['output'] else 'fail'\n",
    "        print(f\"{status}, expected: {test['output']}, actual: {actual}\")"
   ]
  },
  {
   "cell_type": "code",
   "execution_count": 24,
   "id": "0732027c",
   "metadata": {},
   "outputs": [
    {
     "name": "stdout",
     "output_type": "stream",
     "text": [
      "fail, expected: 100, actual: None\n",
      "fail, expected: 10101, actual: None\n",
      "fail, expected: 11110, actual: None\n"
     ]
    }
   ],
   "source": [
    "test_all(addBinary)"
   ]
  },
  {
   "cell_type": "markdown",
   "id": "a7a85d77",
   "metadata": {},
   "source": [
    "# Solution"
   ]
  },
  {
   "cell_type": "code",
   "execution_count": 6,
   "id": "05cab7f8",
   "metadata": {},
   "outputs": [],
   "source": [
    "def add_binary(a, b):\n",
    "    return int(a)+int(b)"
   ]
  },
  {
   "cell_type": "code",
   "execution_count": 8,
   "id": "2ed87bb8",
   "metadata": {},
   "outputs": [],
   "source": [
    "c = int('11') + int('1')"
   ]
  },
  {
   "cell_type": "code",
   "execution_count": 9,
   "id": "2f546102",
   "metadata": {},
   "outputs": [],
   "source": []
  },
  {
   "cell_type": "code",
   "execution_count": 25,
   "id": "8c97df2e",
   "metadata": {},
   "outputs": [],
   "source": [
    "a = '11'\n",
    "b = '1'\n",
    "def add_binary(a, b):\n",
    "    c = ''\n",
    "    index = -1\n",
    "    t = 0\n",
    "    while -index<=len(a) or -index<=len(b):\n",
    "\n",
    "        if -index<=len(a) and a[index] == '1':\n",
    "            t += 1\n",
    "        if -index<=len(b) and b[index] == '1':\n",
    "            t += 1\n",
    "        if t == 0:\n",
    "            c = \"0\" + c\n",
    "        elif t == 1:\n",
    "            c = \"1\" + c\n",
    "            t = 0\n",
    "        elif t == 2:\n",
    "            c = '0' + c\n",
    "            t = 1\n",
    "        elif t == 3:\n",
    "            c = '1' + c\n",
    "            t = 1\n",
    "        index = index - 1\n",
    "\n",
    "    if t == 1:\n",
    "        c = '1' + c\n",
    "    return c\n",
    "        \n",
    "    "
   ]
  },
  {
   "cell_type": "code",
   "execution_count": 26,
   "id": "6c565483",
   "metadata": {},
   "outputs": [
    {
     "name": "stdout",
     "output_type": "stream",
     "text": [
      "pass, expected: 100, actual: 100\n",
      "pass, expected: 10101, actual: 10101\n",
      "pass, expected: 11110, actual: 11110\n"
     ]
    }
   ],
   "source": [
    "test_all(add_binary)"
   ]
  },
  {
   "cell_type": "code",
   "execution_count": null,
   "id": "53fb282b",
   "metadata": {},
   "outputs": [],
   "source": []
  }
 ],
 "metadata": {
  "kernelspec": {
   "display_name": "py37",
   "language": "python",
   "name": "py37"
  },
  "language_info": {
   "codemirror_mode": {
    "name": "ipython",
    "version": 3
   },
   "file_extension": ".py",
   "mimetype": "text/x-python",
   "name": "python",
   "nbconvert_exporter": "python",
   "pygments_lexer": "ipython3",
   "version": "3.8.8"
  }
 },
 "nbformat": 4,
 "nbformat_minor": 5
}

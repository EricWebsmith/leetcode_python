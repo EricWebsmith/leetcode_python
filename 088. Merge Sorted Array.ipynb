{
 "cells": [
  {
   "cell_type": "markdown",
   "id": "dd1b2c44",
   "metadata": {},
   "source": [
    "# 88. Merge Sorted Array\n",
    "\n",
    "https://leetcode.com/problems/merge-sorted-array/"
   ]
  },
  {
   "cell_type": "code",
   "execution_count": 185,
   "id": "d0ca50c9",
   "metadata": {},
   "outputs": [],
   "source": [
    "from typing import List\n",
    "from copy import deepcopy\n",
    "def merge(nums1: List[int], m: int, nums2: List[int], n: int) -> None:\n",
    "    \"\"\"\n",
    "    Do not return anything, modify nums1 in-place instead.\n",
    "    \"\"\""
   ]
  },
  {
   "cell_type": "code",
   "execution_count": 299,
   "id": "d4373435",
   "metadata": {},
   "outputs": [],
   "source": [
    "test_cases = [\n",
    "    {\n",
    "        'input': {\n",
    "            'nums1': [1,2,3,0,0,0], \n",
    "            'm': 3,\n",
    "            'nums2': [2,5,6], \n",
    "            'n': 3\n",
    "        },\n",
    "        'output':[1,2,2,3,5,6]\n",
    "    },\n",
    "    {\n",
    "        'input': {\n",
    "            'nums1': [1],\n",
    "            'm': 1,\n",
    "            'nums2': [], \n",
    "            'n': 0\n",
    "        },\n",
    "        'output': [1]\n",
    "    },\n",
    "    {\n",
    "        'input':{\n",
    "            'nums1': [0],\n",
    "            'm': 0,\n",
    "            'nums2':[1],\n",
    "            'n': 1\n",
    "        },\n",
    "        'output': [1]\n",
    "    },\n",
    "    {\n",
    "        'input':{\n",
    "            'nums1': [2, 0],\n",
    "            'm': 1,\n",
    "            'nums2':[1],\n",
    "            'n': 1\n",
    "        },\n",
    "        'output': [1, 2]\n",
    "    },\n",
    "    {\n",
    "        'input':{\n",
    "            'nums1': [1, 2, 0, 0],\n",
    "            'm': 2,\n",
    "            'nums2':[1, 1],\n",
    "            'n': 2\n",
    "        },\n",
    "        'output': [1, 1, 1, 2]\n",
    "    },\n",
    "    {\n",
    "        'input':{\n",
    "            'nums1': [4,5,6,0,0,0],\n",
    "            'm': 3,\n",
    "            'nums2':[1, 2, 3],\n",
    "            'n': 3\n",
    "        },\n",
    "        'output': [1, 2, 3, 4, 5, 6]\n",
    "    },\n",
    "]"
   ]
  },
  {
   "cell_type": "code",
   "execution_count": 226,
   "id": "d0ff42a0",
   "metadata": {},
   "outputs": [],
   "source": [
    "def test_all(func):\n",
    "    for test_case in test_cases:\n",
    "        nums1 = deepcopy(test_case['input']['nums1']) \n",
    "        m = test_case['input']['m']\n",
    "        nums2 = test_case['input']['nums2']\n",
    "        n = test_case['input']['n']\n",
    "        output = test_case['output']\n",
    "        print(nums1, m, nums2, n)\n",
    "        nums1 = func(nums1, m, nums2, n)\n",
    "        status = 'pass' if nums1 == output else 'fail'\n",
    "        print(f\"{status}, expected: {output}, actual: {nums1}\")"
   ]
  },
  {
   "cell_type": "code",
   "execution_count": 227,
   "id": "c1084ec2",
   "metadata": {},
   "outputs": [
    {
     "name": "stdout",
     "output_type": "stream",
     "text": [
      "[1, 2, 3, 0, 0, 0] 3 [2, 5, 6] 3\n",
      "fail, expected: [1, 2, 2, 3, 5, 6], actual: None\n",
      "[1] 1 [] 0\n",
      "fail, expected: [1], actual: None\n",
      "[0] 0 [1] 1\n",
      "fail, expected: [1], actual: None\n",
      "[2, 1] 1 [1] 1\n",
      "fail, expected: [1, 2], actual: None\n",
      "[1, 1, 1, 2] 2 [1, 1] 2\n",
      "fail, expected: [1, 1, 1, 2], actual: None\n"
     ]
    }
   ],
   "source": [
    "test_all(merge)"
   ]
  },
  {
   "cell_type": "markdown",
   "id": "24669730",
   "metadata": {},
   "source": [
    "# Solution"
   ]
  },
  {
   "cell_type": "code",
   "execution_count": 301,
   "id": "027e6361",
   "metadata": {},
   "outputs": [],
   "source": [
    "def my_merge(nums1: List[int], m: int, nums2: List[int], n: int) -> None:\n",
    "    \"\"\"\n",
    "    Do not return anything, modify nums1 in-place instead.\n",
    "    \"\"\"\n",
    "    print(nums1, m, nums2, n)\n",
    "    for _ in range(len(nums1) - m):\n",
    "        #print(\"--\")\n",
    "        nums1.pop(-1)\n",
    "    \n",
    "    p1 = 0\n",
    "    p2 = 0\n",
    "    while p1 < m + p2 and p2 < n:\n",
    "        while p1 < m + p2 and p2 < n and nums2[p2] < nums1[p1]:\n",
    "            nums1.insert(p1, nums2[p2])\n",
    "            p1 += 1\n",
    "            p2 += 1\n",
    "        \n",
    "        p1 += 1\n",
    "            \n",
    "    if p2<n:\n",
    "        for v in nums2[p2:]:\n",
    "            nums1.append(v)\n",
    "    \n",
    "    print(nums1)\n",
    "    return nums1"
   ]
  },
  {
   "cell_type": "code",
   "execution_count": 302,
   "id": "4b56e539",
   "metadata": {},
   "outputs": [
    {
     "name": "stdout",
     "output_type": "stream",
     "text": [
      "[1, 2, 3, 0, 0, 0] 3 [2, 5, 6] 3\n",
      "[1, 2, 3, 0, 0, 0] 3 [2, 5, 6] 3\n",
      "[1, 2, 2, 3, 5, 6]\n",
      "pass, expected: [1, 2, 2, 3, 5, 6], actual: [1, 2, 2, 3, 5, 6]\n",
      "[1] 1 [] 0\n",
      "[1] 1 [] 0\n",
      "[1]\n",
      "pass, expected: [1], actual: [1]\n",
      "[0] 0 [1] 1\n",
      "[0] 0 [1] 1\n",
      "[1]\n",
      "pass, expected: [1], actual: [1]\n",
      "[2, 0] 1 [1] 1\n",
      "[2, 0] 1 [1] 1\n",
      "[1, 2]\n",
      "pass, expected: [1, 2], actual: [1, 2]\n",
      "[1, 2, 0, 0] 2 [1, 1] 2\n",
      "[1, 2, 0, 0] 2 [1, 1] 2\n",
      "[1, 1, 1, 2]\n",
      "pass, expected: [1, 1, 1, 2], actual: [1, 1, 1, 2]\n",
      "[4, 5, 6, 0, 0, 0] 3 [1, 2, 3] 3\n",
      "[4, 5, 6, 0, 0, 0] 3 [1, 2, 3] 3\n",
      "[1, 2, 3, 4, 5, 6]\n",
      "pass, expected: [1, 2, 3, 4, 5, 6], actual: [1, 2, 3, 4, 5, 6]\n"
     ]
    }
   ],
   "source": [
    "test_all(my_merge)"
   ]
  },
  {
   "cell_type": "markdown",
   "id": "44042515",
   "metadata": {},
   "source": [
    "# results\n",
    "\n",
    "Runtime: 24 ms, faster than 99.70% of Python3 online submissions for Merge Sorted Array.\n",
    "Memory Usage: 14.5 MB, less than 30.83% of Python3 online submissions for Merge Sorted Array."
   ]
  },
  {
   "cell_type": "code",
   "execution_count": null,
   "id": "b45ea790",
   "metadata": {},
   "outputs": [],
   "source": []
  }
 ],
 "metadata": {
  "kernelspec": {
   "display_name": "py37",
   "language": "python",
   "name": "py37"
  },
  "language_info": {
   "codemirror_mode": {
    "name": "ipython",
    "version": 3
   },
   "file_extension": ".py",
   "mimetype": "text/x-python",
   "name": "python",
   "nbconvert_exporter": "python",
   "pygments_lexer": "ipython3",
   "version": "3.8.8"
  }
 },
 "nbformat": 4,
 "nbformat_minor": 5
}

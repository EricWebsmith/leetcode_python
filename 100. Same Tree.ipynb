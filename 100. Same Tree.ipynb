{
 "cells": [
  {
   "cell_type": "markdown",
   "id": "80848231",
   "metadata": {},
   "source": [
    "# 100. Same Tree\n",
    "\n",
    "https://leetcode.com/problems/same-tree/"
   ]
  },
  {
   "cell_type": "code",
   "execution_count": 2,
   "id": "74c460cf",
   "metadata": {},
   "outputs": [],
   "source": [
    "class TreeNode:\n",
    "    def __init__(self, val=0, left=None, right=None):\n",
    "        self.val = val\n",
    "        self.left = left\n",
    "        self.right = right\n",
    "\n",
    "        "
   ]
  },
  {
   "cell_type": "code",
   "execution_count": 7,
   "id": "28532c94",
   "metadata": {},
   "outputs": [],
   "source": [
    "from typing import Optional\n",
    "class Solution:\n",
    "    def isSameTree(self, p: Optional[TreeNode], q: Optional[TreeNode]) -> bool:\n",
    "        if not p and not q:\n",
    "            return True\n",
    "        if not p or not q:\n",
    "            return False\n",
    "        if p.val != q.val:\n",
    "            return False\n",
    "        \n",
    "        return self.isSameTree(p.left, q.left) and self.isSameTree(p.right, q.right)"
   ]
  },
  {
   "cell_type": "markdown",
   "id": "0aae7c43",
   "metadata": {},
   "source": [
    "## result\n",
    "\n",
    "Runtime: 24 ms, faster than 96.96% of Python3 online submissions for Same Tree.\n",
    "\n",
    "Memory Usage: 14.4 MB, less than 31.12% of Python3 online submissions for Same Tree."
   ]
  },
  {
   "cell_type": "code",
   "execution_count": 8,
   "id": "d16e6cf1",
   "metadata": {},
   "outputs": [],
   "source": [
    "def a(bool_value):\n",
    "    print(\"a\")\n",
    "    return bool_value"
   ]
  },
  {
   "cell_type": "code",
   "execution_count": 9,
   "id": "926acfee",
   "metadata": {},
   "outputs": [
    {
     "name": "stdout",
     "output_type": "stream",
     "text": [
      "a\n",
      "a\n"
     ]
    },
    {
     "data": {
      "text/plain": [
       "True"
      ]
     },
     "execution_count": 9,
     "metadata": {},
     "output_type": "execute_result"
    }
   ],
   "source": [
    "a(True) and a(True)"
   ]
  },
  {
   "cell_type": "code",
   "execution_count": 10,
   "id": "173fc084",
   "metadata": {},
   "outputs": [
    {
     "name": "stdout",
     "output_type": "stream",
     "text": [
      "a\n"
     ]
    },
    {
     "data": {
      "text/plain": [
       "False"
      ]
     },
     "execution_count": 10,
     "metadata": {},
     "output_type": "execute_result"
    }
   ],
   "source": [
    "a(False) and a(True)"
   ]
  },
  {
   "cell_type": "code",
   "execution_count": null,
   "id": "108bacf2",
   "metadata": {},
   "outputs": [],
   "source": []
  }
 ],
 "metadata": {
  "kernelspec": {
   "display_name": "py37",
   "language": "python",
   "name": "py37"
  },
  "language_info": {
   "codemirror_mode": {
    "name": "ipython",
    "version": 3
   },
   "file_extension": ".py",
   "mimetype": "text/x-python",
   "name": "python",
   "nbconvert_exporter": "python",
   "pygments_lexer": "ipython3",
   "version": "3.8.8"
  }
 },
 "nbformat": 4,
 "nbformat_minor": 5
}

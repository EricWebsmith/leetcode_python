{
 "cells": [
  {
   "cell_type": "markdown",
   "id": "31fb9ad2",
   "metadata": {},
   "source": [
    "Given an m x n 2D binary grid grid which represents a map of '1's (land) and '0's (water), return the number of islands.\n",
    "\n",
    "An island is surrounded by water and is formed by connecting adjacent lands horizontally or vertically. You may assume all four edges of the grid are all surrounded by water.\n",
    "\n",
    " \n",
    "\n",
    "Example 1:\n",
    "\n",
    "Input: grid = [\n",
    "  [\"1\",\"1\",\"1\",\"1\",\"0\"],\n",
    "  [\"1\",\"1\",\"0\",\"1\",\"0\"],\n",
    "  [\"1\",\"1\",\"0\",\"0\",\"0\"],\n",
    "  [\"0\",\"0\",\"0\",\"0\",\"0\"]\n",
    "]\n",
    "Output: 1\n",
    "\n",
    "Example 2:\n",
    "\n",
    "Input: grid = [\n",
    "  [\"1\",\"1\",\"0\",\"0\",\"0\"],\n",
    "  [\"1\",\"1\",\"0\",\"0\",\"0\"],\n",
    "  [\"0\",\"0\",\"1\",\"0\",\"0\"],\n",
    "  [\"0\",\"0\",\"0\",\"1\",\"1\"]\n",
    "]\n",
    "Output: 3\n",
    "\n",
    " \n",
    "\n",
    "Constraints:\n",
    "\n",
    "    m == grid.length\n",
    "    n == grid[i].length\n",
    "    1 <= m, n <= 300\n",
    "    grid[i][j] is '0' or '1'.\n",
    "\n",
    "Accepted\n",
    "1,244,003\n",
    "Submissions\n",
    "2,402,466"
   ]
  },
  {
   "cell_type": "code",
   "execution_count": 28,
   "id": "892b3dd9",
   "metadata": {},
   "outputs": [
    {
     "ename": "NameError",
     "evalue": "name 'List' is not defined",
     "output_type": "error",
     "traceback": [
      "\u001b[1;31m---------------------------------------------------------------------------\u001b[0m",
      "\u001b[1;31mNameError\u001b[0m                                 Traceback (most recent call last)",
      "\u001b[1;32m~\\AppData\\Local\\Temp/ipykernel_14968/3767291446.py\u001b[0m in \u001b[0;36m<module>\u001b[1;34m\u001b[0m\n\u001b[1;32m----> 1\u001b[1;33m \u001b[1;32mdef\u001b[0m \u001b[0mnumIslands\u001b[0m\u001b[1;33m(\u001b[0m\u001b[0mself\u001b[0m\u001b[1;33m,\u001b[0m \u001b[0mgrid\u001b[0m\u001b[1;33m:\u001b[0m \u001b[0mList\u001b[0m\u001b[1;33m[\u001b[0m\u001b[0mList\u001b[0m\u001b[1;33m[\u001b[0m\u001b[0mstr\u001b[0m\u001b[1;33m]\u001b[0m\u001b[1;33m]\u001b[0m\u001b[1;33m)\u001b[0m \u001b[1;33m->\u001b[0m \u001b[0mint\u001b[0m\u001b[1;33m:\u001b[0m\u001b[1;33m\u001b[0m\u001b[1;33m\u001b[0m\u001b[0m\n\u001b[0m\u001b[0;32m      2\u001b[0m     \u001b[0mm\u001b[0m \u001b[1;33m=\u001b[0m \u001b[0mlen\u001b[0m\u001b[1;33m(\u001b[0m\u001b[0mgrid\u001b[0m\u001b[1;33m)\u001b[0m\u001b[1;33m\u001b[0m\u001b[1;33m\u001b[0m\u001b[0m\n",
      "\u001b[1;31mNameError\u001b[0m: name 'List' is not defined"
     ]
    }
   ],
   "source": [
    "def numIslands(self, grid: List[List[str]]) -> int:\n",
    "    m = len(grid)"
   ]
  },
  {
   "cell_type": "code",
   "execution_count": 182,
   "id": "3074bd6a",
   "metadata": {},
   "outputs": [],
   "source": [
    "grid = [\n",
    "  [\"1\",\"1\",\"0\",\"0\",\"0\"],\n",
    "  [\"1\",\"1\",\"0\",\"0\",\"0\"],\n",
    "  [\"0\",\"0\",\"1\",\"0\",\"0\"],\n",
    "  [\"0\",\"0\",\"0\",\"1\",\"1\"]\n",
    "]\n",
    "\n",
    "grid = [\n",
    "    [\"1\",\"0\",\"1\",\"1\",\"1\"],\n",
    "    [\"1\",\"0\",\"1\",\"0\",\"1\"],\n",
    "    [\"1\",\"1\",\"1\",\"0\",\"1\"]\n",
    "]"
   ]
  },
  {
   "cell_type": "code",
   "execution_count": 183,
   "id": "5a23c4b3",
   "metadata": {},
   "outputs": [
    {
     "data": {
      "text/plain": [
       "(3, 5)"
      ]
     },
     "execution_count": 183,
     "metadata": {},
     "output_type": "execute_result"
    }
   ],
   "source": [
    "m = len(grid)\n",
    "n = len(grid[0])\n",
    "m, n"
   ]
  },
  {
   "cell_type": "code",
   "execution_count": 184,
   "id": "48b39312",
   "metadata": {},
   "outputs": [],
   "source": [
    "union_find = [0] * (m*n)"
   ]
  },
  {
   "cell_type": "code",
   "execution_count": 185,
   "id": "113c8714",
   "metadata": {},
   "outputs": [
    {
     "data": {
      "text/plain": [
       "[0, 0, 0, 0, 0, 0, 0, 0, 0, 0, 0, 0, 0, 0, 0]"
      ]
     },
     "execution_count": 185,
     "metadata": {},
     "output_type": "execute_result"
    }
   ],
   "source": [
    "union_find"
   ]
  },
  {
   "cell_type": "code",
   "execution_count": 204,
   "id": "630d42b8",
   "metadata": {},
   "outputs": [
    {
     "data": {
      "text/plain": [
       "[0, -1, 2, 3, 4, 5, -1, 7, -1, 9, 10, 11, 12, -1, 14]"
      ]
     },
     "execution_count": 204,
     "metadata": {},
     "output_type": "execute_result"
    }
   ],
   "source": [
    "for y in range(m):\n",
    "    for x in range(n):\n",
    "        if grid[y][x] == \"1\":\n",
    "            union_find[y*n+x] = y*n+x\n",
    "        else:\n",
    "            union_find[y*n+x] = -1\n",
    "\n",
    "union_find"
   ]
  },
  {
   "cell_type": "code",
   "execution_count": 205,
   "id": "44b8a9cd",
   "metadata": {},
   "outputs": [],
   "source": [
    "def merge_union(old_ter, new_ter):\n",
    "    old_island_no = union_find[old_ter]\n",
    "    if union_find[new_ter] > union_find[old_ter]:\n",
    "        union_find[new_ter] = union_find[old_ter]\n",
    "    else:\n",
    "        for i in range(len(union_find)):\n",
    "            if union_find[i] == old_island_no:\n",
    "                union_find[i] = union_find[new_ter]"
   ]
  },
  {
   "cell_type": "code",
   "execution_count": 206,
   "id": "8a7c6a06",
   "metadata": {},
   "outputs": [],
   "source": [
    "def group_to(ter, new_group):\n",
    "    old_group = union_find[ter]\n",
    "    if old_group == new_group:\n",
    "        return\n",
    "    \n",
    "    for i in range(len(union_find)):\n",
    "        if union_find[i] == old_group:\n",
    "            union_find[i] = new_group\n",
    "    "
   ]
  },
  {
   "cell_type": "code",
   "execution_count": 207,
   "id": "b4d73f8a",
   "metadata": {},
   "outputs": [],
   "source": [
    "def find_merge_one(x_me, y_me):\n",
    "    if grid[y_me][x_me] == '0':\n",
    "        return \n",
    "    \n",
    "    ter = y_me * n + x_me\n",
    "    group = union_find[ter]\n",
    "    # check but not modify\n",
    "    # if the left one is 1\n",
    "    if x_me > 0 and grid[y_me][x_me - 1] == '1':\n",
    "        old_ter = y_me * n + x_me - 1\n",
    "        group = min(union_find[old_ter], group)\n",
    "        \n",
    "    # if the above one is 1\n",
    "    if y_me > 0 and grid[y_me-1][x_me] == '1':\n",
    "        old_ter = (y_me - 1) * n + x_me\n",
    "        group = min(union_find[old_ter], group)\n",
    "    \n",
    "    group_to(ter, group)\n",
    "    # modify\n",
    "    # if the left one is 1\n",
    "    if x_me > 0 and grid[y_me][x_me - 1] == '1':\n",
    "        old_ter = y_me * n + x_me - 1\n",
    "        group_to(old_ter, group)\n",
    "    \n",
    "    # if the above one is 1\n",
    "    if y_me > 0 and grid[y_me-1][x_me] == '1':\n",
    "        old_ter = (y_me - 1) * n + x_me\n",
    "        group_to(old_ter, group)"
   ]
  },
  {
   "cell_type": "code",
   "execution_count": 208,
   "id": "e42c0630",
   "metadata": {},
   "outputs": [],
   "source": [
    "for y in range(m):\n",
    "    for x in range(n):\n",
    "        find_merge_one(x, y)"
   ]
  },
  {
   "cell_type": "code",
   "execution_count": 209,
   "id": "399938c9",
   "metadata": {},
   "outputs": [
    {
     "data": {
      "text/plain": [
       "[0, -1, 0, 0, 0, 0, -1, 0, -1, 0, 0, 0, 0, -1, 0]"
      ]
     },
     "execution_count": 209,
     "metadata": {},
     "output_type": "execute_result"
    }
   ],
   "source": [
    "union_find"
   ]
  },
  {
   "cell_type": "code",
   "execution_count": 210,
   "id": "c7f2469c",
   "metadata": {},
   "outputs": [],
   "source": [
    "merge_new(2, 1)"
   ]
  },
  {
   "cell_type": "code",
   "execution_count": 161,
   "id": "bed468f6",
   "metadata": {},
   "outputs": [
    {
     "data": {
      "text/plain": [
       "[-1, -1, -1, -1, -1, -1, -1, -1, -1, -1, -1, -1, -1, -1, -1]"
      ]
     },
     "execution_count": 161,
     "metadata": {},
     "output_type": "execute_result"
    }
   ],
   "source": [
    "union_find"
   ]
  },
  {
   "cell_type": "code",
   "execution_count": 211,
   "id": "576988ce",
   "metadata": {},
   "outputs": [],
   "source": [
    "from typing import List\n",
    "def numIslands(grid: List[List[str]]) -> int:\n",
    "    m = len(grid)\n",
    "    n = len(grid[0])\n",
    "    # initialize union_find\n",
    "    union_find = [0] * (m*n)\n",
    "    for y in range(m):\n",
    "        for x in range(n):\n",
    "            if grid[y][x] == \"1\":\n",
    "                union_find[y*n+x] = y*n+x\n",
    "            else:\n",
    "                union_find[y*n+x] = -1\n",
    "                \n",
    "    def group_to(ter, new_group):\n",
    "        old_group = union_find[ter]\n",
    "        if old_group == new_group:\n",
    "            return\n",
    "\n",
    "        for i in range(len(union_find)):\n",
    "            if union_find[i] == old_group:\n",
    "                union_find[i] = new_group\n",
    "                \n",
    "    def find_merge_one(x_me, y_me):\n",
    "        if grid[y_me][x_me] == '0':\n",
    "            return \n",
    "\n",
    "        ter = y_me * n + x_me\n",
    "        group = union_find[ter]\n",
    "        # check but not modify\n",
    "        # if the left one is 1\n",
    "        if x_me > 0 and grid[y_me][x_me - 1] == '1':\n",
    "            old_ter = y_me * n + x_me - 1\n",
    "            group = min(union_find[old_ter], group)\n",
    "\n",
    "        # if the above one is 1\n",
    "        if y_me > 0 and grid[y_me-1][x_me] == '1':\n",
    "            old_ter = (y_me - 1) * n + x_me\n",
    "            group = min(union_find[old_ter], group)\n",
    "\n",
    "        group_to(ter, group)\n",
    "        # modify\n",
    "        # if the left one is 1\n",
    "        if x_me > 0 and grid[y_me][x_me - 1] == '1':\n",
    "            old_ter = y_me * n + x_me - 1\n",
    "            group_to(old_ter, group)\n",
    "\n",
    "        # if the above one is 1\n",
    "        if y_me > 0 and grid[y_me-1][x_me] == '1':\n",
    "            old_ter = (y_me - 1) * n + x_me\n",
    "            group_to(old_ter, group)\n",
    "            \n",
    "    for y in range(m):\n",
    "        for x in range(n):\n",
    "            find_merge_one(x, y)\n",
    "            \n",
    "    # return union_find\n",
    "    return len(set([i for i in union_find if i>=0]))"
   ]
  },
  {
   "cell_type": "code",
   "execution_count": 212,
   "id": "c1d65289",
   "metadata": {},
   "outputs": [
    {
     "data": {
      "text/plain": [
       "1"
      ]
     },
     "execution_count": 212,
     "metadata": {},
     "output_type": "execute_result"
    }
   ],
   "source": [
    "numIslands(grid)"
   ]
  },
  {
   "cell_type": "code",
   "execution_count": 213,
   "id": "1181197b",
   "metadata": {},
   "outputs": [],
   "source": [
    "grid = [\n",
    "  [\"1\",\"1\",\"1\",\"1\",\"0\"],\n",
    "  [\"1\",\"1\",\"0\",\"1\",\"0\"],\n",
    "  [\"1\",\"1\",\"0\",\"0\",\"0\"],\n",
    "  [\"0\",\"0\",\"0\",\"0\",\"0\"]\n",
    "]"
   ]
  },
  {
   "cell_type": "code",
   "execution_count": 214,
   "id": "06eea97a",
   "metadata": {},
   "outputs": [
    {
     "data": {
      "text/plain": [
       "1"
      ]
     },
     "execution_count": 214,
     "metadata": {},
     "output_type": "execute_result"
    }
   ],
   "source": [
    "numIslands(grid)"
   ]
  },
  {
   "cell_type": "code",
   "execution_count": 215,
   "id": "76e2b8a8",
   "metadata": {},
   "outputs": [],
   "source": [
    "grid = [['1']]"
   ]
  },
  {
   "cell_type": "code",
   "execution_count": 216,
   "id": "e9917301",
   "metadata": {},
   "outputs": [
    {
     "data": {
      "text/plain": [
       "1"
      ]
     },
     "execution_count": 216,
     "metadata": {},
     "output_type": "execute_result"
    }
   ],
   "source": [
    "numIslands(grid)"
   ]
  },
  {
   "cell_type": "code",
   "execution_count": 217,
   "id": "79afda82",
   "metadata": {},
   "outputs": [
    {
     "data": {
      "text/plain": [
       "0"
      ]
     },
     "execution_count": 217,
     "metadata": {},
     "output_type": "execute_result"
    }
   ],
   "source": [
    "len(set([i for i in union_find if i>=0]))"
   ]
  },
  {
   "cell_type": "code",
   "execution_count": 218,
   "id": "d89ad06f",
   "metadata": {},
   "outputs": [
    {
     "data": {
      "text/plain": [
       "1"
      ]
     },
     "execution_count": 218,
     "metadata": {},
     "output_type": "execute_result"
    }
   ],
   "source": [
    "grid = [\n",
    "    [\"1\",\"0\",\"1\",\"1\",\"1\"],\n",
    "    [\"1\",\"0\",\"1\",\"0\",\"1\"],\n",
    "    [\"1\",\"1\",\"1\",\"0\",\"1\"]\n",
    "]\n",
    "\n",
    "union_find = numIslands(grid)\n",
    "union_find"
   ]
  },
  {
   "cell_type": "code",
   "execution_count": null,
   "id": "9fe6e166",
   "metadata": {},
   "outputs": [],
   "source": []
  },
  {
   "cell_type": "code",
   "execution_count": 219,
   "id": "be4baafe",
   "metadata": {},
   "outputs": [
    {
     "data": {
      "text/plain": [
       "(0, 0, 0, -1, 2)"
      ]
     },
     "execution_count": 219,
     "metadata": {},
     "output_type": "execute_result"
    }
   ],
   "source": [
    "0, -1, 2, 2, 2\n",
    "0, -1, 0, -1, 2\n",
    "0, 0, 0, -1, 2"
   ]
  },
  {
   "cell_type": "code",
   "execution_count": 220,
   "id": "a1a37385",
   "metadata": {},
   "outputs": [],
   "source": [
    "x_me, y_me = 2, 1"
   ]
  },
  {
   "cell_type": "code",
   "execution_count": 221,
   "id": "b5bf0533",
   "metadata": {},
   "outputs": [
    {
     "data": {
      "text/plain": [
       "True"
      ]
     },
     "execution_count": 221,
     "metadata": {},
     "output_type": "execute_result"
    }
   ],
   "source": [
    "y_me > 0 and grid[y_me-1][x_me] == '1'"
   ]
  },
  {
   "cell_type": "code",
   "execution_count": 222,
   "id": "424878a8",
   "metadata": {},
   "outputs": [
    {
     "data": {
      "text/plain": [
       "(7, 2)"
      ]
     },
     "execution_count": 222,
     "metadata": {},
     "output_type": "execute_result"
    }
   ],
   "source": [
    "y_me * n + x_me, (y_me - 1) * n + x_me"
   ]
  },
  {
   "cell_type": "code",
   "execution_count": 223,
   "id": "1c4a001a",
   "metadata": {},
   "outputs": [],
   "source": [
    "old_ter = (y_me - 1) * n + x_me\n",
    "new_ter = y_me * n + x_me"
   ]
  },
  {
   "cell_type": "code",
   "execution_count": 224,
   "id": "1b536e14",
   "metadata": {},
   "outputs": [
    {
     "ename": "TypeError",
     "evalue": "'int' object is not subscriptable",
     "output_type": "error",
     "traceback": [
      "\u001b[1;31m---------------------------------------------------------------------------\u001b[0m",
      "\u001b[1;31mTypeError\u001b[0m                                 Traceback (most recent call last)",
      "\u001b[1;32m~\\AppData\\Local\\Temp/ipykernel_14968/4068994261.py\u001b[0m in \u001b[0;36m<module>\u001b[1;34m\u001b[0m\n\u001b[1;32m----> 1\u001b[1;33m \u001b[0mold_island_no\u001b[0m \u001b[1;33m=\u001b[0m \u001b[0munion_find\u001b[0m\u001b[1;33m[\u001b[0m\u001b[0mold_ter\u001b[0m\u001b[1;33m]\u001b[0m\u001b[1;33m\u001b[0m\u001b[1;33m\u001b[0m\u001b[0m\n\u001b[0m\u001b[0;32m      2\u001b[0m \u001b[0mnew_island_no\u001b[0m \u001b[1;33m=\u001b[0m \u001b[0munion_find\u001b[0m\u001b[1;33m[\u001b[0m\u001b[0mnew_ter\u001b[0m\u001b[1;33m]\u001b[0m\u001b[1;33m\u001b[0m\u001b[1;33m\u001b[0m\u001b[0m\n\u001b[0;32m      3\u001b[0m \u001b[1;32mif\u001b[0m \u001b[0munion_find\u001b[0m\u001b[1;33m[\u001b[0m\u001b[0mnew_ter\u001b[0m\u001b[1;33m]\u001b[0m \u001b[1;33m>\u001b[0m \u001b[0munion_find\u001b[0m\u001b[1;33m[\u001b[0m\u001b[0mold_ter\u001b[0m\u001b[1;33m]\u001b[0m\u001b[1;33m:\u001b[0m\u001b[1;33m\u001b[0m\u001b[1;33m\u001b[0m\u001b[0m\n\u001b[0;32m      4\u001b[0m     \u001b[0munion_find\u001b[0m\u001b[1;33m[\u001b[0m\u001b[0mnew_ter\u001b[0m\u001b[1;33m]\u001b[0m \u001b[1;33m=\u001b[0m \u001b[0munion_find\u001b[0m\u001b[1;33m[\u001b[0m\u001b[0mold_ter\u001b[0m\u001b[1;33m]\u001b[0m\u001b[1;33m\u001b[0m\u001b[1;33m\u001b[0m\u001b[0m\n\u001b[0;32m      5\u001b[0m \u001b[1;32melse\u001b[0m\u001b[1;33m:\u001b[0m\u001b[1;33m\u001b[0m\u001b[1;33m\u001b[0m\u001b[0m\n",
      "\u001b[1;31mTypeError\u001b[0m: 'int' object is not subscriptable"
     ]
    }
   ],
   "source": [
    "        old_island_no = union_find[old_ter]\n",
    "        new_island_no = union_find[new_ter]\n",
    "        if union_find[new_ter] > union_find[old_ter]:\n",
    "            union_find[new_ter] = union_find[old_ter]\n",
    "        else:\n",
    "            for i in range(len(union_find)):\n",
    "                if union_find[i] == old_island_no:\n",
    "                    union_find[i] = new_island_no"
   ]
  },
  {
   "cell_type": "code",
   "execution_count": 225,
   "id": "a159c1f1",
   "metadata": {},
   "outputs": [
    {
     "ename": "TypeError",
     "evalue": "'int' object is not subscriptable",
     "output_type": "error",
     "traceback": [
      "\u001b[1;31m---------------------------------------------------------------------------\u001b[0m",
      "\u001b[1;31mTypeError\u001b[0m                                 Traceback (most recent call last)",
      "\u001b[1;32m~\\AppData\\Local\\Temp/ipykernel_14968/3356234353.py\u001b[0m in \u001b[0;36m<module>\u001b[1;34m\u001b[0m\n\u001b[1;32m----> 1\u001b[1;33m \u001b[0mold_island_no\u001b[0m \u001b[1;33m=\u001b[0m \u001b[0munion_find\u001b[0m\u001b[1;33m[\u001b[0m\u001b[0mold_ter\u001b[0m\u001b[1;33m]\u001b[0m\u001b[1;33m\u001b[0m\u001b[1;33m\u001b[0m\u001b[0m\n\u001b[0m\u001b[0;32m      2\u001b[0m \u001b[0mold_island_no\u001b[0m\u001b[1;33m\u001b[0m\u001b[1;33m\u001b[0m\u001b[0m\n",
      "\u001b[1;31mTypeError\u001b[0m: 'int' object is not subscriptable"
     ]
    }
   ],
   "source": [
    "old_island_no = union_find[old_ter]\n",
    "old_island_no"
   ]
  },
  {
   "cell_type": "code",
   "execution_count": 109,
   "id": "d7aa8d07",
   "metadata": {},
   "outputs": [
    {
     "data": {
      "text/plain": [
       "2"
      ]
     },
     "execution_count": 109,
     "metadata": {},
     "output_type": "execute_result"
    }
   ],
   "source": [
    "old_ter"
   ]
  },
  {
   "cell_type": "code",
   "execution_count": 113,
   "id": "a4035d49",
   "metadata": {},
   "outputs": [
    {
     "data": {
      "text/plain": [
       "2"
      ]
     },
     "execution_count": 113,
     "metadata": {},
     "output_type": "execute_result"
    }
   ],
   "source": [
    "union_find[old_ter]"
   ]
  },
  {
   "cell_type": "code",
   "execution_count": 115,
   "id": "80fcc3b9",
   "metadata": {},
   "outputs": [
    {
     "data": {
      "text/plain": [
       "0"
      ]
     },
     "execution_count": 115,
     "metadata": {},
     "output_type": "execute_result"
    }
   ],
   "source": [
    "union_find[new_ter]"
   ]
  },
  {
   "cell_type": "code",
   "execution_count": 116,
   "id": "10dd4f3c",
   "metadata": {},
   "outputs": [
    {
     "data": {
      "text/plain": [
       "False"
      ]
     },
     "execution_count": 116,
     "metadata": {},
     "output_type": "execute_result"
    }
   ],
   "source": [
    "union_find[new_ter] > union_find[old_ter]"
   ]
  },
  {
   "cell_type": "code",
   "execution_count": 120,
   "id": "12300380",
   "metadata": {},
   "outputs": [
    {
     "data": {
      "text/plain": [
       "[0, -1, 0, 0, 0, 0, -1, 0, -1, 0, 0, 0, 0, -1, 0]"
      ]
     },
     "execution_count": 120,
     "metadata": {},
     "output_type": "execute_result"
    }
   ],
   "source": [
    "union_find"
   ]
  },
  {
   "cell_type": "code",
   "execution_count": 172,
   "id": "e825b48f",
   "metadata": {},
   "outputs": [
    {
     "data": {
      "text/plain": [
       "[0, 0, 0, -1, 0, -1, 6, 0, 0]"
      ]
     },
     "execution_count": 172,
     "metadata": {},
     "output_type": "execute_result"
    }
   ],
   "source": [
    "\n",
    "\n",
    "numIslands(grid)"
   ]
  },
  {
   "cell_type": "code",
   "execution_count": 228,
   "id": "788ca425",
   "metadata": {},
   "outputs": [],
   "source": [
    "grid = [\n",
    "    [\"1\",\"1\",\"1\"],\n",
    "    [\"0\",\"1\",\"0\"],\n",
    "    [\"1\",\"1\",\"1\"]\n",
    "]\n",
    "assert numIslands(grid)==1\n",
    "\n",
    "grid = [\n",
    "    [\"1\",\"0\",\"1\",\"1\",\"1\"],\n",
    "    [\"1\",\"0\",\"1\",\"0\",\"1\"],\n",
    "    [\"1\",\"1\",\"1\",\"0\",\"1\"]\n",
    "]\n",
    "assert numIslands(grid)==1"
   ]
  },
  {
   "cell_type": "code",
   "execution_count": null,
   "id": "bd8b13e5",
   "metadata": {},
   "outputs": [],
   "source": []
  }
 ],
 "metadata": {
  "kernelspec": {
   "display_name": "Python 3 (ipykernel)",
   "language": "python",
   "name": "python3"
  },
  "language_info": {
   "codemirror_mode": {
    "name": "ipython",
    "version": 3
   },
   "file_extension": ".py",
   "mimetype": "text/x-python",
   "name": "python",
   "nbconvert_exporter": "python",
   "pygments_lexer": "ipython3",
   "version": "3.10.0"
  }
 },
 "nbformat": 4,
 "nbformat_minor": 5
}

{
 "cells": [
  {
   "cell_type": "markdown",
   "id": "cddcdd3e",
   "metadata": {},
   "source": [
    "# 2008. Maximum Earnings From Taxi\n",
    "\n",
    "https://leetcode.com/problems/maximum-earnings-from-taxi/"
   ]
  },
  {
   "cell_type": "code",
   "execution_count": 9,
   "id": "fc304ae6",
   "metadata": {},
   "outputs": [],
   "source": [
    "from bisect import bisect_left\n",
    "from typing import List"
   ]
  },
  {
   "cell_type": "code",
   "execution_count": 12,
   "id": "b85ddd7d",
   "metadata": {},
   "outputs": [],
   "source": [
    "a = [0, 1, 1,2,3,4]"
   ]
  },
  {
   "cell_type": "code",
   "execution_count": 13,
   "id": "5e28ae8e",
   "metadata": {},
   "outputs": [
    {
     "data": {
      "text/plain": [
       "3"
      ]
     },
     "execution_count": 13,
     "metadata": {},
     "output_type": "execute_result"
    }
   ],
   "source": [
    "bisect_left(a, 2)"
   ]
  },
  {
   "cell_type": "code",
   "execution_count": 15,
   "id": "2e733446",
   "metadata": {},
   "outputs": [],
   "source": [
    "class Solution:\n",
    "    def maxTaxiEarnings(self, n: int, rides: List[List[int]]) -> int:\n",
    "        @lru_cache\n",
    "        def dp(index):\n",
    "            if index == n:\n",
    "                return 0\n",
    "            \n",
    "            s, e, t = rides[index]\n",
    "            \n",
    "            ans = dp(index+1)\n",
    "            \n",
    "            j = bisect_left(rides, [e, 0, 0])\n",
    "            ans = max(ans, e-s+t+dp(j))\n",
    "            \n",
    "            return ans\n",
    "        \n",
    "        n = len(rides)\n",
    "        rides.sort()\n",
    "        \n",
    "        return dp(0)"
   ]
  },
  {
   "cell_type": "code",
   "execution_count": null,
   "id": "adb29097",
   "metadata": {},
   "outputs": [],
   "source": []
  }
 ],
 "metadata": {
  "kernelspec": {
   "display_name": "py37",
   "language": "python",
   "name": "py37"
  },
  "language_info": {
   "codemirror_mode": {
    "name": "ipython",
    "version": 3
   },
   "file_extension": ".py",
   "mimetype": "text/x-python",
   "name": "python",
   "nbconvert_exporter": "python",
   "pygments_lexer": "ipython3",
   "version": "3.8.8"
  }
 },
 "nbformat": 4,
 "nbformat_minor": 5
}

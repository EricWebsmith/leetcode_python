{
 "cells": [
  {
   "cell_type": "markdown",
   "id": "577cdc0e",
   "metadata": {},
   "source": [
    "# 309. Best Time to Buy and Sell Stock with Cooldown\n",
    "\n",
    "https://leetcode.com/problems/best-time-to-buy-and-sell-stock-with-cooldown/"
   ]
  },
  {
   "cell_type": "code",
   "execution_count": 2,
   "id": "0a681c6b",
   "metadata": {},
   "outputs": [],
   "source": [
    "from typing import List"
   ]
  },
  {
   "cell_type": "code",
   "execution_count": 3,
   "id": "38ab61eb",
   "metadata": {},
   "outputs": [],
   "source": [
    "class Solution:\n",
    "    def maxProfile(self, prices: List[int]) -> int:\n",
    "        dp = {}\n",
    "        \n",
    "        def dfs(i , buying):\n",
    "            if i >= len(prices):\n",
    "                return 0\n",
    "            if (i ,buying) in dp:\n",
    "                return dp[(i, buying)]\n",
    "            \n",
    "            if buying:\n",
    "                buy = dfs(i + 1, not buying) - prices[i]\n",
    "                cooldown = dfs(i + 1, buying)\n",
    "                dp[(i, buying)] = max(buy, cooldown)\n",
    "            else:\n",
    "                sell = dfs(i+2, not buying) + prices[i]\n",
    "                cooldown = dfs(i + 1, buying)\n",
    "                dp[(i, buying)] = max(sell, cooldown)\n",
    "                \n",
    "            return dp[(i, buying)]\n",
    "        \n",
    "        return dfs(0, True)"
   ]
  },
  {
   "cell_type": "code",
   "execution_count": null,
   "id": "c2498fab",
   "metadata": {},
   "outputs": [],
   "source": []
  }
 ],
 "metadata": {
  "kernelspec": {
   "display_name": "py37",
   "language": "python",
   "name": "py37"
  },
  "language_info": {
   "codemirror_mode": {
    "name": "ipython",
    "version": 3
   },
   "file_extension": ".py",
   "mimetype": "text/x-python",
   "name": "python",
   "nbconvert_exporter": "python",
   "pygments_lexer": "ipython3",
   "version": "3.8.8"
  }
 },
 "nbformat": 4,
 "nbformat_minor": 5
}

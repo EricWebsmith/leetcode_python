{
 "cells": [
  {
   "cell_type": "markdown",
   "id": "4b2e9638",
   "metadata": {},
   "source": [
    "https://leetcode.com/problems/find-first-and-last-position-of-element-in-sorted-array/"
   ]
  },
  {
   "cell_type": "code",
   "execution_count": 1,
   "id": "dc4db8af",
   "metadata": {},
   "outputs": [],
   "source": [
    "from typing import List"
   ]
  },
  {
   "cell_type": "code",
   "execution_count": 2,
   "id": "51f70627",
   "metadata": {},
   "outputs": [],
   "source": [
    "def searchRange(nums: List[int], target: int) -> List[int]:\n",
    "    pass"
   ]
  },
  {
   "cell_type": "code",
   "execution_count": 13,
   "id": "a437f95f",
   "metadata": {},
   "outputs": [],
   "source": [
    "tests = []\n",
    "\n",
    "tests.append({\n",
    "    \"input\":\n",
    "    {\n",
    "        \"nums\": [5,7,7,8,8,10],\n",
    "        \"target\": 8\n",
    "    },\n",
    "    \"output\": [3,4]\n",
    "})\n",
    "\n",
    "tests.append({\n",
    "    \"input\":\n",
    "    {\n",
    "        \"nums\": [5,7,7,8,8,10],\n",
    "        \"target\": 6\n",
    "    },\n",
    "    \"output\": [-1,-1]\n",
    "})\n",
    "\n",
    "tests.append({\n",
    "    \"input\":\n",
    "    {\n",
    "        \"nums\": [],\n",
    "        \"target\": 0\n",
    "    },\n",
    "    \"output\": [-1,-1]\n",
    "})\n",
    "\n",
    "tests.append({\n",
    "    \"input\":\n",
    "    {\n",
    "        \"nums\": [1],\n",
    "        \"target\": 1\n",
    "    },\n",
    "    \"output\": [0,0]\n",
    "})\n",
    "\n",
    "tests.append({\n",
    "    \"input\":\n",
    "    {\n",
    "        \"nums\": [1,1,2],\n",
    "        \"target\": 1\n",
    "    },\n",
    "    \"output\": [0,1]\n",
    "})"
   ]
  },
  {
   "cell_type": "code",
   "execution_count": 14,
   "id": "7d4cf4d8",
   "metadata": {},
   "outputs": [],
   "source": [
    "def test_all(tests, func):\n",
    "    for test in tests:\n",
    "        actual = func(**test['input'])\n",
    "        status = \"pass\" if actual == test['output'] else \"fail\"\n",
    "        print(f\"{status}, expected: {test['output']}, actual: {actual}\")"
   ]
  },
  {
   "cell_type": "code",
   "execution_count": 15,
   "id": "b4655830",
   "metadata": {},
   "outputs": [
    {
     "name": "stdout",
     "output_type": "stream",
     "text": [
      "pass, expected: [3, 4], actual: [3, 4]\n",
      "pass, expected: [-1, -1], actual: [-1, -1]\n",
      "pass, expected: [-1, -1], actual: [-1, -1]\n",
      "pass, expected: [0, 0], actual: [0, 0]\n",
      "fail, expected: [0, 1], actual: [1, 1]\n"
     ]
    }
   ],
   "source": [
    "test_all(tests, searchRange)"
   ]
  },
  {
   "cell_type": "code",
   "execution_count": 31,
   "id": "228fb043",
   "metadata": {},
   "outputs": [],
   "source": [
    "def searchRange(nums: List[int], target: int) -> List[int]:\n",
    "    def binary_search_first() -> int:\n",
    "        lo = 0\n",
    "        hi = len(nums)-1\n",
    "        while lo<=hi:\n",
    "            \n",
    "            mid = (lo + hi) // 2\n",
    "            #print(lo, hi, mid)\n",
    "            if nums[mid] == target:\n",
    "                if mid-1>=0 and nums[mid-1] == target:\n",
    "                    hi = mid - 1\n",
    "                else:\n",
    "                    return mid\n",
    "            elif nums[mid] < target:\n",
    "                lo = mid + 1\n",
    "            elif nums[mid] > target:\n",
    "                hi = mid - 1\n",
    "        return -1\n",
    "    \n",
    "    def binary_search_last(lo: int) -> int:\n",
    "        if lo == -1:\n",
    "            lo = 0\n",
    "        hi = len(nums)-1\n",
    "        while lo<=hi:\n",
    "            mid = (lo + hi) // 2\n",
    "            if nums[mid] == target:\n",
    "                if mid+1<len(nums) and nums[mid+1] == target:\n",
    "                    lo = mid + 1\n",
    "                else:\n",
    "                    return mid\n",
    "            elif nums[mid] < target:\n",
    "                lo = mid + 1\n",
    "            elif nums[mid] > target:\n",
    "                hi = mid - 1\n",
    "        return -1\n",
    "    \n",
    "    first = binary_search_first()\n",
    "    last = binary_search_last(first)\n",
    "    return [first, last]"
   ]
  },
  {
   "cell_type": "code",
   "execution_count": 32,
   "id": "74185c9b",
   "metadata": {},
   "outputs": [
    {
     "name": "stdout",
     "output_type": "stream",
     "text": [
      "pass, expected: [3, 4], actual: [3, 4]\n",
      "pass, expected: [-1, -1], actual: [-1, -1]\n",
      "pass, expected: [-1, -1], actual: [-1, -1]\n",
      "pass, expected: [0, 0], actual: [0, 0]\n",
      "pass, expected: [0, 1], actual: [0, 1]\n"
     ]
    }
   ],
   "source": [
    "test_all(tests, searchRange)"
   ]
  },
  {
   "cell_type": "code",
   "execution_count": 24,
   "id": "87b4bd5e",
   "metadata": {},
   "outputs": [
    {
     "data": {
      "text/plain": [
       "{'input': {'nums': [1, 1, 2], 'target': 1}, 'output': [0, 1]}"
      ]
     },
     "execution_count": 24,
     "metadata": {},
     "output_type": "execute_result"
    }
   ],
   "source": [
    "tests[-1]"
   ]
  },
  {
   "cell_type": "code",
   "execution_count": 23,
   "id": "eaf8d5f0",
   "metadata": {},
   "outputs": [
    {
     "name": "stdout",
     "output_type": "stream",
     "text": [
      "0 2 1\n"
     ]
    },
    {
     "data": {
      "text/plain": [
       "[1, 1]"
      ]
     },
     "execution_count": 23,
     "metadata": {},
     "output_type": "execute_result"
    }
   ],
   "source": [
    "searchRange(**tests[-1]['input'])"
   ]
  },
  {
   "cell_type": "code",
   "execution_count": 27,
   "id": "f9832128",
   "metadata": {},
   "outputs": [],
   "source": [
    "    def binary_search_first(nums: List[int], target: int) -> int:\n",
    "        lo = 0\n",
    "        hi = len(nums)-1\n",
    "        while lo<=hi:\n",
    "            \n",
    "            mid = (lo + hi) // 2\n",
    "            print(lo, hi, mid)\n",
    "            if nums[mid] == target:\n",
    "                if mid-1>=0 and nums[mid-1] == target:\n",
    "                    hi = mid - 1\n",
    "                else:\n",
    "                    return mid\n",
    "            elif nums[mid] < target:\n",
    "                lo = mid + 1\n",
    "            elif nums[mid] > target:\n",
    "                hi = mid - 1\n",
    "        return -1"
   ]
  },
  {
   "cell_type": "code",
   "execution_count": 28,
   "id": "16b5ad6b",
   "metadata": {},
   "outputs": [
    {
     "name": "stdout",
     "output_type": "stream",
     "text": [
      "0 2 1\n",
      "0 0 0\n"
     ]
    },
    {
     "data": {
      "text/plain": [
       "0"
      ]
     },
     "execution_count": 28,
     "metadata": {},
     "output_type": "execute_result"
    }
   ],
   "source": [
    "binary_search_first(**tests[-1]['input'])"
   ]
  },
  {
   "cell_type": "code",
   "execution_count": null,
   "id": "34aa8bb7",
   "metadata": {},
   "outputs": [],
   "source": []
  }
 ],
 "metadata": {
  "kernelspec": {
   "display_name": "py37",
   "language": "python",
   "name": "py37"
  },
  "language_info": {
   "codemirror_mode": {
    "name": "ipython",
    "version": 3
   },
   "file_extension": ".py",
   "mimetype": "text/x-python",
   "name": "python",
   "nbconvert_exporter": "python",
   "pygments_lexer": "ipython3",
   "version": "3.8.8"
  }
 },
 "nbformat": 4,
 "nbformat_minor": 5
}

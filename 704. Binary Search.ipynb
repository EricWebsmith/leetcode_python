{
 "cells": [
  {
   "cell_type": "code",
   "execution_count": 2,
   "id": "d955cfcd",
   "metadata": {},
   "outputs": [],
   "source": []
  },
  {
   "cell_type": "markdown",
   "id": "af79e651",
   "metadata": {},
   "source": [
    "https://leetcode.com/problems/binary-search/"
   ]
  },
  {
   "cell_type": "code",
   "execution_count": 3,
   "id": "02a49f55",
   "metadata": {},
   "outputs": [],
   "source": [
    "from typing import List"
   ]
  },
  {
   "cell_type": "code",
   "execution_count": 22,
   "id": "72e14d1f",
   "metadata": {},
   "outputs": [],
   "source": [
    "tests = []\n",
    "tests.append({\n",
    "    \"input\":\n",
    "    {\n",
    "        \"nums\":[-1,0,3,5,9,12],\n",
    "        \"target\":9\n",
    "    },\n",
    "    \"output\":4\n",
    "})\n",
    "\n",
    "tests.append({\n",
    "    \"input\":\n",
    "    {\n",
    "        \"nums\":[-1,0,3,5,9,12],\n",
    "        \"target\":2\n",
    "    },\n",
    "    \"output\":-1\n",
    "})\n",
    "\n",
    "tests.append({\n",
    "    \"input\":\n",
    "    {\n",
    "        \"nums\":[5],\n",
    "        \"target\":5\n",
    "    },\n",
    "    \"output\":0\n",
    "})"
   ]
  },
  {
   "cell_type": "code",
   "execution_count": 23,
   "id": "9052d00f",
   "metadata": {},
   "outputs": [],
   "source": [
    "def search(nums: List[int], target: int) -> int:\n",
    "    pass"
   ]
  },
  {
   "cell_type": "code",
   "execution_count": 24,
   "id": "90335fdc",
   "metadata": {},
   "outputs": [],
   "source": [
    "def test_all(tests, func):\n",
    "    for test in tests:\n",
    "        result = func(**test['input'])\n",
    "        result_str = \"pass\" if result == test['output'] else \"fail\"\n",
    "        print(f\"{result_str}, expected: {test['output']}, actual: {result}\")"
   ]
  },
  {
   "cell_type": "code",
   "execution_count": 25,
   "id": "d7feb295",
   "metadata": {},
   "outputs": [
    {
     "name": "stdout",
     "output_type": "stream",
     "text": [
      "fail, expected: 4, actual: None\n",
      "fail, expected: -1, actual: None\n",
      "fail, expected: 0, actual: None\n"
     ]
    }
   ],
   "source": [
    "test_all(tests, search)"
   ]
  },
  {
   "cell_type": "code",
   "execution_count": 26,
   "id": "21de3874",
   "metadata": {},
   "outputs": [],
   "source": [
    "def search(nums: List[int], target: int) -> int:\n",
    "    def binary_search(lo, hi, condition):\n",
    "        while lo<=hi:\n",
    "            mid = (lo+hi)//2\n",
    "            result = condition(mid)\n",
    "            if result == \"found\":\n",
    "                return mid\n",
    "            elif result == \"left\":\n",
    "                hi = mid - 1\n",
    "            elif result == \"right\":\n",
    "                lo = mid + 1\n",
    "        \n",
    "        return -1\n",
    "    \n",
    "    def condition(mid):\n",
    "        if nums[mid] == target:\n",
    "            return \"found\"\n",
    "        if nums[mid] < target:\n",
    "            return \"right\"\n",
    "        if nums[mid] > target:\n",
    "            return \"left\"\n",
    "    \n",
    "    return binary_search(0, len(nums)-1, condition)"
   ]
  },
  {
   "cell_type": "code",
   "execution_count": 27,
   "id": "76489d12",
   "metadata": {},
   "outputs": [
    {
     "name": "stdout",
     "output_type": "stream",
     "text": [
      "pass, expected: 4, actual: 4\n",
      "pass, expected: -1, actual: -1\n",
      "pass, expected: 0, actual: 0\n"
     ]
    }
   ],
   "source": [
    "test_all(tests, search)"
   ]
  },
  {
   "cell_type": "code",
   "execution_count": 30,
   "id": "bbaa1108",
   "metadata": {},
   "outputs": [],
   "source": [
    "def faster_search(nums: List[int], target: int) -> int:\n",
    "    lo = 0\n",
    "    hi = len(nums)-1\n",
    "    while lo<=hi:\n",
    "        mid = (lo+hi)//2\n",
    "        # condition\n",
    "        if nums[mid] == target:\n",
    "            return mid\n",
    "        if nums[mid] < target:\n",
    "            lo = mid + 1\n",
    "        if nums[mid] > target:\n",
    "            hi = mid - 1\n",
    "\n",
    "    return -1"
   ]
  },
  {
   "cell_type": "code",
   "execution_count": 31,
   "id": "05e0d0f5",
   "metadata": {},
   "outputs": [
    {
     "name": "stdout",
     "output_type": "stream",
     "text": [
      "pass, expected: 4, actual: 4\n",
      "pass, expected: -1, actual: -1\n",
      "pass, expected: 0, actual: 0\n"
     ]
    }
   ],
   "source": [
    "test_all(tests, faster_search)"
   ]
  },
  {
   "cell_type": "code",
   "execution_count": null,
   "id": "419687b4",
   "metadata": {},
   "outputs": [],
   "source": []
  }
 ],
 "metadata": {
  "kernelspec": {
   "display_name": "py37",
   "language": "python",
   "name": "py37"
  },
  "language_info": {
   "codemirror_mode": {
    "name": "ipython",
    "version": 3
   },
   "file_extension": ".py",
   "mimetype": "text/x-python",
   "name": "python",
   "nbconvert_exporter": "python",
   "pygments_lexer": "ipython3",
   "version": "3.8.8"
  }
 },
 "nbformat": 4,
 "nbformat_minor": 5
}

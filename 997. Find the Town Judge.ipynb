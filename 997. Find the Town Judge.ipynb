{
 "cells": [
  {
   "cell_type": "markdown",
   "id": "87beeb77",
   "metadata": {},
   "source": [
    "# Question\n",
    "\n",
    "https://leetcode.com/problems/find-the-town-judge/submissions/"
   ]
  },
  {
   "cell_type": "code",
   "execution_count": 54,
   "id": "8bbd0fc0",
   "metadata": {},
   "outputs": [],
   "source": [
    "def find_judge(n, trust):\n",
    "    pass"
   ]
  },
  {
   "cell_type": "code",
   "execution_count": 55,
   "id": "e1ea421c",
   "metadata": {},
   "outputs": [],
   "source": [
    "tests = [\n",
    "    {\n",
    "        \"input\":\n",
    "        {\n",
    "            \"n\":2,\n",
    "            \"trust\":[[1,2]]\n",
    "        },\n",
    "        \"output\":2\n",
    "    },\n",
    "    {\n",
    "        \"input\":\n",
    "        {\n",
    "            \"n\":3,\n",
    "            \"trust\":[[1,3],[2,3]]\n",
    "        },\n",
    "        \"output\":3\n",
    "    },    \n",
    "    {\n",
    "        \"input\":\n",
    "        {\n",
    "            \"n\":3,\n",
    "            \"trust\":[[1,3],[2,3],[3,1]]\n",
    "        },\n",
    "        \"output\":-1\n",
    "    },    \n",
    "    {\n",
    "        \"input\":\n",
    "        {\n",
    "            \"n\":3,\n",
    "            \"trust\":[[1,2],[2,3]]\n",
    "        },\n",
    "        \"output\":-1\n",
    "    },    \n",
    "    {\n",
    "        \"input\":\n",
    "        {\n",
    "            \"n\":4,\n",
    "            \"trust\":[[1,3],[1,4],[2,3],[2,4],[4,3]]\n",
    "        },\n",
    "        \"output\":3\n",
    "    }\n",
    "    \n",
    "]"
   ]
  },
  {
   "cell_type": "code",
   "execution_count": 56,
   "id": "cbf20f3d",
   "metadata": {},
   "outputs": [],
   "source": [
    "def test_all(tests, func):\n",
    "    for test in tests:\n",
    "        actual = func(**test['input'])\n",
    "        status = 'pass' if actual == test['output'] else 'fail'\n",
    "        print(f\"{status}, expected: {test['output']}, actual: {actual}\")"
   ]
  },
  {
   "cell_type": "code",
   "execution_count": 57,
   "id": "17dd2803",
   "metadata": {},
   "outputs": [
    {
     "name": "stdout",
     "output_type": "stream",
     "text": [
      "fail, expected: 2, actual: None\n",
      "fail, expected: 3, actual: None\n",
      "fail, expected: -1, actual: None\n",
      "fail, expected: -1, actual: None\n",
      "fail, expected: 3, actual: None\n"
     ]
    }
   ],
   "source": [
    "test_all(tests, find_judge)"
   ]
  },
  {
   "cell_type": "markdown",
   "id": "1b129ae9",
   "metadata": {},
   "source": [
    "# Graph"
   ]
  },
  {
   "cell_type": "code",
   "execution_count": 59,
   "id": "224634d6",
   "metadata": {},
   "outputs": [],
   "source": [
    "class Graph:\n",
    "    def __init__(self, n, trust):\n",
    "        self.n = n\n",
    "        self.data = [[0 for _ in range(n)] for _ in range(n)]\n",
    "        for n1, n2 in trust:\n",
    "            self.data[n1-1][n2-1] = 1"
   ]
  },
  {
   "cell_type": "code",
   "execution_count": 63,
   "id": "c9af3c75",
   "metadata": {},
   "outputs": [],
   "source": [
    "def find_judge(n, trust):\n",
    "    g = Graph(n, trust)\n",
    "    judge = -1\n",
    "    for i in range(n):\n",
    "        if sum(g.data[i]) > 0:\n",
    "            continue\n",
    "        \n",
    "        if sum([g.data[j][i] for j in range(n)]) < n - 1:\n",
    "            continue\n",
    "        \n",
    "        if judge > -1:\n",
    "            return -1\n",
    "    \n",
    "        judge = i + 1\n",
    "        \n",
    "    return judge"
   ]
  },
  {
   "cell_type": "code",
   "execution_count": 64,
   "id": "fec2dcc9",
   "metadata": {},
   "outputs": [
    {
     "name": "stdout",
     "output_type": "stream",
     "text": [
      "pass, expected: 2, actual: 2\n",
      "pass, expected: 3, actual: 3\n",
      "pass, expected: -1, actual: -1\n",
      "pass, expected: -1, actual: -1\n",
      "pass, expected: 3, actual: 3\n"
     ]
    }
   ],
   "source": [
    "test_all(tests, find_judge)"
   ]
  },
  {
   "cell_type": "markdown",
   "id": "3b75f226",
   "metadata": {},
   "source": [
    "# without graph"
   ]
  },
  {
   "cell_type": "code",
   "execution_count": 51,
   "id": "0a6e5719",
   "metadata": {},
   "outputs": [],
   "source": [
    "def find_judge(n, trust):\n",
    "    # print(n, trust)\n",
    "    trust_from = [0] * n\n",
    "    trust_to = [0] * n\n",
    "    for n1, n2 in trust:\n",
    "        trust_from[n1-1] += 1\n",
    "        trust_to[n2-1] += 1\n",
    "    \n",
    "    judge = -1\n",
    "    for index, (ifrom, ito) in enumerate(zip(trust_from, trust_to)):\n",
    "        if ifrom == 0 and ito == n - 1:\n",
    "            if judge > -1:\n",
    "                return -1\n",
    "            judge = index + 1\n",
    "    return judge"
   ]
  },
  {
   "cell_type": "code",
   "execution_count": 52,
   "id": "560b6ce3",
   "metadata": {},
   "outputs": [
    {
     "name": "stdout",
     "output_type": "stream",
     "text": [
      "2 [[1, 2]]\n"
     ]
    },
    {
     "data": {
      "text/plain": [
       "2"
      ]
     },
     "execution_count": 52,
     "metadata": {},
     "output_type": "execute_result"
    }
   ],
   "source": [
    "find_judge(2, [[1,2]])"
   ]
  },
  {
   "cell_type": "code",
   "execution_count": 53,
   "id": "d4c30d11",
   "metadata": {},
   "outputs": [
    {
     "name": "stdout",
     "output_type": "stream",
     "text": [
      "2 [[1, 2]]\n",
      "pass, expected: 2, actual: 2\n",
      "3 [[1, 3], [2, 3]]\n",
      "pass, expected: 3, actual: 3\n",
      "3 [[1, 3], [2, 3], [3, 1]]\n",
      "pass, expected: -1, actual: -1\n",
      "3 [[1, 2], [2, 3]]\n",
      "pass, expected: -1, actual: -1\n",
      "4 [[1, 3], [1, 4], [2, 3], [2, 4], [4, 3]]\n",
      "pass, expected: 3, actual: 3\n"
     ]
    }
   ],
   "source": [
    "test_all(tests, find_judge)"
   ]
  },
  {
   "cell_type": "code",
   "execution_count": null,
   "id": "ad701eea",
   "metadata": {},
   "outputs": [],
   "source": []
  }
 ],
 "metadata": {
  "kernelspec": {
   "display_name": "py37",
   "language": "python",
   "name": "py37"
  },
  "language_info": {
   "codemirror_mode": {
    "name": "ipython",
    "version": 3
   },
   "file_extension": ".py",
   "mimetype": "text/x-python",
   "name": "python",
   "nbconvert_exporter": "python",
   "pygments_lexer": "ipython3",
   "version": "3.8.8"
  }
 },
 "nbformat": 4,
 "nbformat_minor": 5
}
